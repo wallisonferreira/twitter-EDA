{
 "cells": [
  {
   "cell_type": "code",
   "execution_count": 1,
   "metadata": {},
   "outputs": [],
   "source": [
    "import pandas as pd\n",
    "import numpy as np"
   ]
  },
  {
   "cell_type": "code",
   "execution_count": 2,
   "metadata": {},
   "outputs": [],
   "source": [
    "df = pd.read_csv(\"sentiment_scores_dates.csv\")"
   ]
  },
  {
   "cell_type": "code",
   "execution_count": 4,
   "metadata": {},
   "outputs": [
    {
     "data": {
      "text/html": [
       "<div>\n",
       "<style scoped>\n",
       "    .dataframe tbody tr th:only-of-type {\n",
       "        vertical-align: middle;\n",
       "    }\n",
       "\n",
       "    .dataframe tbody tr th {\n",
       "        vertical-align: top;\n",
       "    }\n",
       "\n",
       "    .dataframe thead th {\n",
       "        text-align: right;\n",
       "    }\n",
       "</style>\n",
       "<table border=\"1\" class=\"dataframe\">\n",
       "  <thead>\n",
       "    <tr style=\"text-align: right;\">\n",
       "      <th></th>\n",
       "      <th>datetime</th>\n",
       "      <th>date</th>\n",
       "      <th>date_month</th>\n",
       "      <th>tweet_id</th>\n",
       "      <th>processed_text</th>\n",
       "      <th>text_lower</th>\n",
       "      <th>textblob_sentiment</th>\n",
       "      <th>vader_sentiment</th>\n",
       "      <th>afinn_sentiment</th>\n",
       "      <th>textblob_score</th>\n",
       "      <th>vader_score</th>\n",
       "      <th>afinn_score</th>\n",
       "      <th>afinn_score_norm</th>\n",
       "    </tr>\n",
       "  </thead>\n",
       "  <tbody>\n",
       "    <tr>\n",
       "      <th>0</th>\n",
       "      <td>2021-10-01 00:12:02+00:00</td>\n",
       "      <td>01/10/2021</td>\n",
       "      <td>01/10</td>\n",
       "      <td>1443730389986590720</td>\n",
       "      <td>✨ join thil sunday celebrat 6 month sinc genes...</td>\n",
       "      <td>✨join me this sunday to celebrate 6 months sin...</td>\n",
       "      <td>Positive</td>\n",
       "      <td>Positive</td>\n",
       "      <td>Positive</td>\n",
       "      <td>0.4375</td>\n",
       "      <td>0.8852</td>\n",
       "      <td>3.0</td>\n",
       "      <td>0.485573</td>\n",
       "    </tr>\n",
       "    <tr>\n",
       "      <th>1</th>\n",
       "      <td>2021-10-01 00:13:00+00:00</td>\n",
       "      <td>01/10/2021</td>\n",
       "      <td>01/10</td>\n",
       "      <td>1443730633360953344</td>\n",
       "      <td>@top7 @mxcfoundation @defineplatform @yopf @o3...</td>\n",
       "      <td>@top7ico @mxcfoundation @defineplatform @yopfi...</td>\n",
       "      <td>Positive</td>\n",
       "      <td>Positive</td>\n",
       "      <td>Positive</td>\n",
       "      <td>1.0000</td>\n",
       "      <td>0.7249</td>\n",
       "      <td>3.0</td>\n",
       "      <td>0.485573</td>\n",
       "    </tr>\n",
       "    <tr>\n",
       "      <th>2</th>\n",
       "      <td>2021-10-01 00:13:09+00:00</td>\n",
       "      <td>01/10/2021</td>\n",
       "      <td>01/10</td>\n",
       "      <td>1443730669419446291</td>\n",
       "      <td>@metaspatial_i good project go moon 🚀 🚀 🚀 @muh...</td>\n",
       "      <td>@metaspatial_io good project go to the moon 🚀🚀...</td>\n",
       "      <td>Positive</td>\n",
       "      <td>Positive</td>\n",
       "      <td>Positive</td>\n",
       "      <td>0.7000</td>\n",
       "      <td>0.4404</td>\n",
       "      <td>3.0</td>\n",
       "      <td>0.485573</td>\n",
       "    </tr>\n",
       "    <tr>\n",
       "      <th>3</th>\n",
       "      <td>2021-10-01 00:13:18+00:00</td>\n",
       "      <td>01/10/2021</td>\n",
       "      <td>01/10</td>\n",
       "      <td>1443730706409033728</td>\n",
       "      <td>@metaverse_yin tak hyp alph lol</td>\n",
       "      <td>@metaverse_yin i just take the hype as alpha lol</td>\n",
       "      <td>Positive</td>\n",
       "      <td>Positive</td>\n",
       "      <td>Positive</td>\n",
       "      <td>0.8000</td>\n",
       "      <td>0.4215</td>\n",
       "      <td>3.0</td>\n",
       "      <td>0.485573</td>\n",
       "    </tr>\n",
       "    <tr>\n",
       "      <th>4</th>\n",
       "      <td>2021-10-01 00:13:56+00:00</td>\n",
       "      <td>01/10/2021</td>\n",
       "      <td>01/10</td>\n",
       "      <td>1443730867797565442</td>\n",
       "      <td>@metaverse_yin keep coming ! lma</td>\n",
       "      <td>@metaverse_yin keep it coming ! lmao</td>\n",
       "      <td>Neutral</td>\n",
       "      <td>Neutral</td>\n",
       "      <td>Neutral</td>\n",
       "      <td>0.0000</td>\n",
       "      <td>0.0000</td>\n",
       "      <td>0.0</td>\n",
       "      <td>0.008624</td>\n",
       "    </tr>\n",
       "  </tbody>\n",
       "</table>\n",
       "</div>"
      ],
      "text/plain": [
       "                    datetime        date date_month             tweet_id  \\\n",
       "0  2021-10-01 00:12:02+00:00  01/10/2021      01/10  1443730389986590720   \n",
       "1  2021-10-01 00:13:00+00:00  01/10/2021      01/10  1443730633360953344   \n",
       "2  2021-10-01 00:13:09+00:00  01/10/2021      01/10  1443730669419446291   \n",
       "3  2021-10-01 00:13:18+00:00  01/10/2021      01/10  1443730706409033728   \n",
       "4  2021-10-01 00:13:56+00:00  01/10/2021      01/10  1443730867797565442   \n",
       "\n",
       "                                      processed_text  \\\n",
       "0  ✨ join thil sunday celebrat 6 month sinc genes...   \n",
       "1  @top7 @mxcfoundation @defineplatform @yopf @o3...   \n",
       "2  @metaspatial_i good project go moon 🚀 🚀 🚀 @muh...   \n",
       "3                    @metaverse_yin tak hyp alph lol   \n",
       "4                   @metaverse_yin keep coming ! lma   \n",
       "\n",
       "                                          text_lower textblob_sentiment  \\\n",
       "0  ✨join me this sunday to celebrate 6 months sin...           Positive   \n",
       "1  @top7ico @mxcfoundation @defineplatform @yopfi...           Positive   \n",
       "2  @metaspatial_io good project go to the moon 🚀🚀...           Positive   \n",
       "3   @metaverse_yin i just take the hype as alpha lol           Positive   \n",
       "4               @metaverse_yin keep it coming ! lmao            Neutral   \n",
       "\n",
       "  vader_sentiment afinn_sentiment  textblob_score  vader_score  afinn_score  \\\n",
       "0        Positive        Positive          0.4375       0.8852          3.0   \n",
       "1        Positive        Positive          1.0000       0.7249          3.0   \n",
       "2        Positive        Positive          0.7000       0.4404          3.0   \n",
       "3        Positive        Positive          0.8000       0.4215          3.0   \n",
       "4         Neutral         Neutral          0.0000       0.0000          0.0   \n",
       "\n",
       "   afinn_score_norm  \n",
       "0          0.485573  \n",
       "1          0.485573  \n",
       "2          0.485573  \n",
       "3          0.485573  \n",
       "4          0.008624  "
      ]
     },
     "execution_count": 4,
     "metadata": {},
     "output_type": "execute_result"
    }
   ],
   "source": [
    "df.head()"
   ]
  },
  {
   "cell_type": "code",
   "execution_count": 17,
   "metadata": {},
   "outputs": [
    {
     "data": {
      "text/plain": [
       "Index(['datetime', 'date', 'date_month', 'tweet_id', 'processed_text',\n",
       "       'text_lower', 'textblob_sentiment', 'vader_sentiment',\n",
       "       'afinn_sentiment', 'textblob_score', 'vader_score', 'afinn_score',\n",
       "       'afinn_score_norm'],\n",
       "      dtype='object')"
      ]
     },
     "execution_count": 17,
     "metadata": {},
     "output_type": "execute_result"
    }
   ],
   "source": [
    "df.columns"
   ]
  },
  {
   "cell_type": "code",
   "execution_count": 18,
   "metadata": {},
   "outputs": [],
   "source": [
    "sample = df[['datetime', 'tweet_id','text_lower','textblob_sentiment', 'vader_sentiment',\n",
    "       'afinn_sentiment', 'textblob_score', 'vader_score', 'afinn_score',\n",
    "       'afinn_score_norm']]"
   ]
  },
  {
   "cell_type": "code",
   "execution_count": 22,
   "metadata": {},
   "outputs": [],
   "source": [
    "sample.to_csv(r'C:\\Users\\Wallison Ferreira\\OneDrive\\TCC II - Metaverso\\workspace\\twitter-EDA\\tweets_studies_ranking\\sample.csv', index=False)"
   ]
  },
  {
   "cell_type": "code",
   "execution_count": 41,
   "metadata": {},
   "outputs": [],
   "source": [
    "df.to_csv(r'C:\\Users\\Wallison Ferreira\\OneDrive\\TCC II - Metaverso\\workspace\\twitter-EDA\\tweets_studies_ranking\\dataset_score.csv', index=False)"
   ]
  },
  {
   "cell_type": "code",
   "execution_count": null,
   "metadata": {},
   "outputs": [],
   "source": [
    "sample['datetime'] = pd.to_datetime(sample['datetime'])"
   ]
  },
  {
   "cell_type": "code",
   "execution_count": 29,
   "metadata": {},
   "outputs": [],
   "source": [
    "time_key = pd.Grouper(freq='M')"
   ]
  },
  {
   "cell_type": "code",
   "execution_count": 52,
   "metadata": {},
   "outputs": [],
   "source": [
    "resampled = (sample.set_index('datetime').groupby(['afinn_sentiment',time_key])[['tweet_id']].count())"
   ]
  },
  {
   "cell_type": "code",
   "execution_count": 53,
   "metadata": {},
   "outputs": [],
   "source": [
    "resampled.to_csv(r'C:\\Users\\Wallison Ferreira\\OneDrive\\TCC II - Metaverso\\workspace\\twitter-EDA\\tweets_studies_ranking\\afinn_monthly_qtd.csv')"
   ]
  },
  {
   "cell_type": "markdown",
   "metadata": {},
   "source": [
    "##### Check the strength of relationship in documents"
   ]
  },
  {
   "cell_type": "code",
   "execution_count": 54,
   "metadata": {},
   "outputs": [],
   "source": [
    "relatedTopics = 'metaverse is|what metaverse|is metaverse|what is metaverse|what metaverse is|metaverses are|what metaverses|are metaverses|what metaverses are'"
   ]
  },
  {
   "cell_type": "code",
   "execution_count": 11,
   "metadata": {},
   "outputs": [],
   "source": [
    "related = [\n",
    "    'metaverse is',\n",
    "    'what metaverse',\n",
    "    'is metaverse',\n",
    "    'what is metaverse',\n",
    "    'what metaverse is',\n",
    "    'metaverses are',\n",
    "    'what metaverses',\n",
    "    'are metaverses',\n",
    "    'what metaverses are'\n",
    "]\n",
    "\n",
    "def checkIfRelated(text):\n",
    "    print(text)\n",
    "    for term in related:\n",
    "        if term in text:\n",
    "            return 'strong'\n",
    "    return 'weak'"
   ]
  },
  {
   "cell_type": "code",
   "execution_count": 12,
   "metadata": {},
   "outputs": [
    {
     "name": "stdout",
     "output_type": "stream",
     "text": [
      "what is metaverse anyway\n"
     ]
    },
    {
     "data": {
      "text/plain": [
       "'strong'"
      ]
     },
     "execution_count": 12,
     "metadata": {},
     "output_type": "execute_result"
    }
   ],
   "source": [
    "checkIfRelated('what is metaverse anyway')"
   ]
  },
  {
   "cell_type": "code",
   "execution_count": 70,
   "metadata": {},
   "outputs": [],
   "source": [
    "from tqdm import tqdm\n",
    "tqdm.pandas()"
   ]
  },
  {
   "cell_type": "code",
   "execution_count": null,
   "metadata": {},
   "outputs": [],
   "source": [
    "df['strength'] = df.progress_apply(lambda row: checkIfRelated(row['text_lower']), axis=1)"
   ]
  },
  {
   "cell_type": "code",
   "execution_count": 72,
   "metadata": {},
   "outputs": [
    {
     "data": {
      "text/html": [
       "<div>\n",
       "<style scoped>\n",
       "    .dataframe tbody tr th:only-of-type {\n",
       "        vertical-align: middle;\n",
       "    }\n",
       "\n",
       "    .dataframe tbody tr th {\n",
       "        vertical-align: top;\n",
       "    }\n",
       "\n",
       "    .dataframe thead th {\n",
       "        text-align: right;\n",
       "    }\n",
       "</style>\n",
       "<table border=\"1\" class=\"dataframe\">\n",
       "  <thead>\n",
       "    <tr style=\"text-align: right;\">\n",
       "      <th></th>\n",
       "      <th>datetime</th>\n",
       "      <th>date</th>\n",
       "      <th>date_month</th>\n",
       "      <th>tweet_id</th>\n",
       "      <th>processed_text</th>\n",
       "      <th>text_lower</th>\n",
       "      <th>textblob_sentiment</th>\n",
       "      <th>vader_sentiment</th>\n",
       "      <th>afinn_sentiment</th>\n",
       "      <th>textblob_score</th>\n",
       "      <th>vader_score</th>\n",
       "      <th>afinn_score</th>\n",
       "      <th>afinn_score_norm</th>\n",
       "    </tr>\n",
       "    <tr>\n",
       "      <th>strength</th>\n",
       "      <th></th>\n",
       "      <th></th>\n",
       "      <th></th>\n",
       "      <th></th>\n",
       "      <th></th>\n",
       "      <th></th>\n",
       "      <th></th>\n",
       "      <th></th>\n",
       "      <th></th>\n",
       "      <th></th>\n",
       "      <th></th>\n",
       "      <th></th>\n",
       "      <th></th>\n",
       "    </tr>\n",
       "  </thead>\n",
       "  <tbody>\n",
       "    <tr>\n",
       "      <th>weak</th>\n",
       "      <td>3667775</td>\n",
       "      <td>3667775</td>\n",
       "      <td>3667775</td>\n",
       "      <td>3667775</td>\n",
       "      <td>3667775</td>\n",
       "      <td>3667775</td>\n",
       "      <td>3667775</td>\n",
       "      <td>3667775</td>\n",
       "      <td>3667775</td>\n",
       "      <td>3667775</td>\n",
       "      <td>3667775</td>\n",
       "      <td>3667775</td>\n",
       "      <td>3667775</td>\n",
       "    </tr>\n",
       "  </tbody>\n",
       "</table>\n",
       "</div>"
      ],
      "text/plain": [
       "          datetime     date  date_month  tweet_id  processed_text  text_lower  \\\n",
       "strength                                                                        \n",
       "weak       3667775  3667775     3667775   3667775         3667775     3667775   \n",
       "\n",
       "          textblob_sentiment  vader_sentiment  afinn_sentiment  \\\n",
       "strength                                                         \n",
       "weak                 3667775          3667775          3667775   \n",
       "\n",
       "          textblob_score  vader_score  afinn_score  afinn_score_norm  \n",
       "strength                                                              \n",
       "weak             3667775      3667775      3667775           3667775  "
      ]
     },
     "execution_count": 72,
     "metadata": {},
     "output_type": "execute_result"
    }
   ],
   "source": [
    "df.groupby('strength').count()"
   ]
  },
  {
   "cell_type": "markdown",
   "metadata": {},
   "source": [
    "Singular\n",
    "\n",
    "- metaverse is (139237)\n",
    "- what metaverse (2932)\n",
    "- is metaverse (31952)\n",
    "- what is metaverse (1794)\n",
    "- what metaverse is (884)\n",
    "\n",
    "Plural\n",
    "\n",
    "- metaverses are (604)\n",
    "- what metaverses (26)\n",
    "- are metaverses (58)\n",
    "- what are metaverses (0)\n",
    "- what metaverses are (9)"
   ]
  },
  {
   "cell_type": "code",
   "execution_count": null,
   "metadata": {},
   "outputs": [],
   "source": []
  }
 ],
 "metadata": {
  "interpreter": {
   "hash": "d54245c670ff253d1204420841bd04192ea0c38e456268d4f3a24d97e25d8999"
  },
  "kernelspec": {
   "display_name": "Python 3.10.4 64-bit",
   "language": "python",
   "name": "python3"
  },
  "language_info": {
   "codemirror_mode": {
    "name": "ipython",
    "version": 3
   },
   "file_extension": ".py",
   "mimetype": "text/x-python",
   "name": "python",
   "nbconvert_exporter": "python",
   "pygments_lexer": "ipython3",
   "version": "3.10.4"
  },
  "orig_nbformat": 4
 },
 "nbformat": 4,
 "nbformat_minor": 2
}
