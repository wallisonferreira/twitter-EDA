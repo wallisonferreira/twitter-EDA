{
 "cells": [
  {
   "cell_type": "code",
   "execution_count": 2,
   "metadata": {},
   "outputs": [],
   "source": [
    "import pandas as pd\n",
    "import numpy as np\n",
    "from tqdm import tqdm\n",
    "import warnings\n",
    "warnings.filterwarnings(\"ignore\")\n",
    "tqdm.pandas()"
   ]
  },
  {
   "cell_type": "code",
   "execution_count": 4,
   "metadata": {},
   "outputs": [],
   "source": [
    "df = pd.read_csv(r\"sentiment_scores_dates.csv\")"
   ]
  },
  {
   "cell_type": "code",
   "execution_count": 74,
   "metadata": {},
   "outputs": [
    {
     "name": "stderr",
     "output_type": "stream",
     "text": [
      "100%|██████████| 3667775/3667775 [07:13<00:00, 8457.67it/s]\n",
      "100%|██████████| 3667775/3667775 [07:14<00:00, 8446.78it/s]\n"
     ]
    }
   ],
   "source": [
    "df['date'] = df.progress_apply(lambda row: pd.to_datetime(row['datetime']).strftime('%d/%m/%Y'), axis=1)\n",
    "df['date_month'] = df.progress_apply(lambda row: pd.to_datetime(row['datetime']).strftime('%d/%m'), axis=1)"
   ]
  },
  {
   "cell_type": "code",
   "execution_count": 20,
   "metadata": {},
   "outputs": [],
   "source": [
    "df.to_csv('sentiment_scores_dates.csv', index=False)"
   ]
  },
  {
   "cell_type": "markdown",
   "metadata": {},
   "source": [
    "### Analyzing distribution of scores"
   ]
  },
  {
   "cell_type": "code",
   "execution_count": 16,
   "metadata": {},
   "outputs": [],
   "source": [
    "# invite people for the party\n",
    "import matplotlib.pyplot as plt\n",
    "import seaborn as sns\n",
    "import locale\n",
    "locale.setlocale(locale.LC_ALL, \"pt_BR.utf8\")\n",
    "plt.rcParams.update({\n",
    "    'axes.formatter.use_locale' : True,\n",
    "})\n",
    "plt.style.use('ggplot')"
   ]
  },
  {
   "cell_type": "code",
   "execution_count": 84,
   "metadata": {},
   "outputs": [],
   "source": [
    "# https://www.fschuch.com/blog/2020/10/14/graficos-com-qualidade-de-publicacao-em-python-com-matplotlib/\n",
    "# define a pattern of dimensions for plots\n",
    "def get_figsize(columnwidth=4, wf=1.0, hf_rel=(5.0 ** 0.5 - 1.0) / 2.0, hf_abs=None, unit=\"inch\"):\n",
    "    # Dessa maneira, unit não será sensível a letras maiúsculas e minúsculas\n",
    "    unit = unit.lower()\n",
    "\n",
    "    # Converte unidades para polegadas, conforme esperado por Matplotlib\n",
    "    conversion = dict(inch=1.0, mm=25.4, cm=2.54, pt=72.0,)\n",
    "\n",
    "    if unit in conversion.keys():\n",
    "        fig_width = columnwidth / conversion[unit]\n",
    "        if hf_abs is not None:\n",
    "            fig_height = hf_abs / conversion[unit]\n",
    "    else:\n",
    "        raise ValueError(f\"unit deve ser: {conversion.keys()}\")\n",
    "\n",
    "    # A figura será apenas uma fração da largura útil da página\n",
    "    fig_width *= wf\n",
    "\n",
    "    # Caso hf_abs não seja definido, a altura será uma fração da largura\n",
    "    if hf_abs is None:\n",
    "        fig_height = fig_width * hf_rel\n",
    "\n",
    "    # Retorna a largura e altura especificada para a figura\n",
    "    return (fig_width, fig_height)\n",
    "\n",
    "plt.rcParams.update({\n",
    "    'figure.figsize' : get_figsize(columnwidth=455.0, unit='pt'),\n",
    "    #\n",
    "    \"axes.labelsize\": 12,\n",
    "    \"font.size\": 12,\n",
    "    \"legend.fontsize\": 12,\n",
    "    \"xtick.labelsize\": 12,\n",
    "    \"ytick.labelsize\": 12,\n",
    "})\n",
    "\n",
    "# if necessary a customization for each particular figure\n",
    "# fig, axes = plt.subplots(figsize=get_figsize(columnwidth=16, unit='cm', hf_rel=0.5))"
   ]
  },
  {
   "cell_type": "markdown",
   "metadata": {},
   "source": [
    "### Exemplo salvando arquivo em vetorial"
   ]
  },
  {
   "cell_type": "code",
   "execution_count": null,
   "metadata": {},
   "outputs": [],
   "source": [
    "# plt.savefig('example_line.'+f, format=f)"
   ]
  },
  {
   "cell_type": "markdown",
   "metadata": {},
   "source": [
    "### Distribuição dos scores (Sem normalização)"
   ]
  },
  {
   "cell_type": "code",
   "execution_count": 150,
   "metadata": {},
   "outputs": [
    {
     "data": {
      "image/png": "[encoded data removed]",
      "text/plain": [
       "<Figure size 1080x720 with 1 Axes>"
      ]
     },
     "metadata": {},
     "output_type": "display_data"
    }
   ],
   "source": [
    "# Criando o ambiente do gráfico \n",
    "sns.set_style(\"white\")\n",
    "fig, ax = plt.subplots(1, 1, figsize=(15, 10))\n",
    "\n",
    "# Insere curva KDE (Kernel Density Estimation)\n",
    "g1 = sns.distplot(df[\"textblob_score\"], ax=ax, \n",
    "                  kde=True, hist=False, label='Textblob score')\n",
    "# Insere curva KDE (Kernel Density Estimation)\n",
    "g2 = sns.distplot(df[\"vader_score\"], ax=ax, \n",
    "                  kde=True, hist=False, label='Vader score')\n",
    "# Insere curva KDE (Kernel Density Estimation)\n",
    "g3 = sns.distplot(df[\"afinn_score\"], ax=ax, \n",
    "                  kde=True, hist=False, label='Afinn score')\n",
    "plt.legend()\n",
    "plt.savefig('1_scores_distribution.svg')\n",
    "plt.savefig('1_scores_distribution.png')"
   ]
  },
  {
   "cell_type": "markdown",
   "metadata": {},
   "source": [
    "### Normalização do score"
   ]
  },
  {
   "cell_type": "code",
   "execution_count": 9,
   "metadata": {},
   "outputs": [],
   "source": [
    "from sklearn.preprocessing import StandardScaler\n",
    "from sklearn.preprocessing import MinMaxScaler\n",
    "from sklearn.preprocessing import minmax_scale\n",
    "from sklearn.preprocessing import MaxAbsScaler\n",
    "from sklearn.preprocessing import RobustScaler\n",
    "from sklearn.preprocessing import Normalizer\n",
    "from sklearn.preprocessing import QuantileTransformer\n",
    "from sklearn.preprocessing import PowerTransformer"
   ]
  },
  {
   "cell_type": "code",
   "execution_count": 10,
   "metadata": {},
   "outputs": [],
   "source": [
    "array = np.array(df['afinn_score']).reshape(-1, 1)"
   ]
  },
  {
   "cell_type": "code",
   "execution_count": 11,
   "metadata": {},
   "outputs": [],
   "source": [
    "# squares_root\n",
    "def squareRoot(value):\n",
    "    if value > 0:\n",
    "        return np.sqrt(value)\n",
    "    if value < 0:\n",
    "        return np.sqrt(abs(value)) * (-1)\n",
    "    return 0\n",
    "\n",
    "squares = df.apply(lambda row: squareRoot(row['afinn_score']), axis=1)"
   ]
  },
  {
   "cell_type": "markdown",
   "metadata": {},
   "source": [
    "##### Normalização"
   ]
  },
  {
   "cell_type": "code",
   "execution_count": 155,
   "metadata": {},
   "outputs": [],
   "source": [
    "df_afinn_score = df['afinn_score']"
   ]
  },
  {
   "cell_type": "code",
   "execution_count": 156,
   "metadata": {},
   "outputs": [],
   "source": [
    "normalizado = MinMaxScaler(feature_range=(-1,1)).fit_transform(np.array(df_afinn_score).reshape(-1,1))"
   ]
  },
  {
   "cell_type": "markdown",
   "metadata": {},
   "source": [
    "##### Gráfico com normalização 1"
   ]
  },
  {
   "cell_type": "code",
   "execution_count": 157,
   "metadata": {},
   "outputs": [
    {
     "data": {
      "image/png": "[encoded data removed]",
      "text/plain": [
       "<Figure size 1080x720 with 1 Axes>"
      ]
     },
     "metadata": {},
     "output_type": "display_data"
    }
   ],
   "source": [
    "# Criando o ambiente do gráfico \n",
    "sns.set_style(\"white\")\n",
    "fig, ax = plt.subplots(1, 1, figsize=(15, 10))\n",
    "\n",
    "# Insere curva KDE (Kernel Density Estimation)\n",
    "g2 = sns.distplot(df[\"textblob_score\"], ax=ax, \n",
    "                  kde=True, hist=False, label='Textblob score')\n",
    "# Insere curva KDE (Kernel Density Estimation)\n",
    "g3 = sns.distplot(df[\"vader_score\"], ax=ax, \n",
    "                  kde=True, hist=False, label='Vader score')\n",
    "# Insere curva KDE (Kernel Density Estimation)\n",
    "g3 = sns.distplot(normalizado, ax=ax, \n",
    "                  kde=True, hist=False, label='Afinn score normalizado')\n",
    "plt.legend()\n",
    "plt.xlabel('Polaridade')\n",
    "plt.xlabel('Densidade')\n",
    "plt.savefig('2_scores_distribution.svg')\n",
    "plt.savefig('2_scores_distribution.png')"
   ]
  },
  {
   "cell_type": "markdown",
   "metadata": {},
   "source": [
    "##### Gráfico com raiz quadrada e normalização"
   ]
  },
  {
   "cell_type": "code",
   "execution_count": 161,
   "metadata": {},
   "outputs": [],
   "source": [
    "normalizadoComRaiz1 = MinMaxScaler(feature_range=(-1,1)).fit_transform(squares.values.reshape(-1,1))"
   ]
  },
  {
   "cell_type": "code",
   "execution_count": 171,
   "metadata": {},
   "outputs": [
    {
     "data": {
      "image/png": "[encoded data removed]",
      "text/plain": [
       "<Figure size 1080x720 with 1 Axes>"
      ]
     },
     "metadata": {},
     "output_type": "display_data"
    }
   ],
   "source": [
    "# Criando o ambiente do gráfico \n",
    "sns.set_style(\"white\")\n",
    "fig, ax = plt.subplots(1, 1, figsize=(15, 10))\n",
    "\n",
    "# Insere curva KDE (Kernel Density Estimation)\n",
    "g2 = sns.distplot(df[\"textblob_score\"], ax=ax, \n",
    "                  kde=True, hist=False, label='Textblob')\n",
    "# Insere curva KDE (Kernel Density Estimation)\n",
    "g3 = sns.distplot(df[\"vader_score\"], ax=ax, \n",
    "                  kde=True, hist=False, label='Vader')\n",
    "# Insere curva KDE (Kernel Density Estimation)\n",
    "g3 = sns.distplot(normalizadoComRaiz1, ax=ax, \n",
    "                  kde=True, hist=False, label='Afinn (raíz + norm)')\n",
    "plt.legend()\n",
    "plt.xlabel('Polaridade')\n",
    "plt.xlabel('Densidade')\n",
    "plt.savefig('3_scores_distribution_raíz_e_normalização.svg')\n",
    "plt.savefig('3_scores_distribution_raíz_e_normalização.png')"
   ]
  },
  {
   "cell_type": "markdown",
   "metadata": {},
   "source": [
    "##### Raíz quadrada e normalização 2"
   ]
  },
  {
   "cell_type": "code",
   "execution_count": 163,
   "metadata": {},
   "outputs": [],
   "source": [
    "def squareRoot(value):\n",
    "    if value > 0:\n",
    "        return np.sqrt(value)\n",
    "    if value < 0:\n",
    "        return np.sqrt(abs(value)) * (-1)\n",
    "    return 0"
   ]
  },
  {
   "cell_type": "code",
   "execution_count": 12,
   "metadata": {},
   "outputs": [],
   "source": [
    "squares2 = df.apply(lambda row: squareRoot(squareRoot(row['afinn_score'])), axis=1)"
   ]
  },
  {
   "cell_type": "code",
   "execution_count": 13,
   "metadata": {},
   "outputs": [],
   "source": [
    "normalizadoComRaiz2 = MinMaxScaler(feature_range=(-1,1)).fit_transform(squares2.values.reshape(-1,1))"
   ]
  },
  {
   "cell_type": "code",
   "execution_count": null,
   "metadata": {},
   "outputs": [],
   "source": [
    "squares2 = df.apply(lambda row: squareRoot(squareRoot(row['afinn_score'])), axis=1)\n",
    "normalizadoComRaiz2 = MinMaxScaler(feature_range=(-1,1)).fit_transform(squares2.values.reshape(-1,1))"
   ]
  },
  {
   "cell_type": "code",
   "execution_count": 36,
   "metadata": {},
   "outputs": [
    {
     "data": {
      "image/png": "[encoded data removed]",
      "text/plain": [
       "<Figure size 1080x720 with 1 Axes>"
      ]
     },
     "metadata": {},
     "output_type": "display_data"
    }
   ],
   "source": [
    "# Criando o ambiente do gráfico \n",
    "sns.set_style(\"white\")\n",
    "fig, ax = plt.subplots(1, 1, figsize=(15, 10))\n",
    "\n",
    "# Insere curva KDE (Kernel Density Estimation)\n",
    "g2 = sns.distplot(df[\"textblob_score\"], ax=ax, \n",
    "                  kde=True, hist=False, label='Textblob')\n",
    "# Insere curva KDE (Kernel Density Estimation)\n",
    "g3 = sns.distplot(df[\"vader_score\"], ax=ax, \n",
    "                  kde=True, hist=False, label='Vader')\n",
    "# Insere curva KDE (Kernel Density Estimation)\n",
    "g3 = sns.distplot(normalizadoComRaiz2, ax=ax, \n",
    "                  kde=True, hist=False, label='Afinn norm (2)')\n",
    "plt.legend()\n",
    "plt.xlabel('Polaridade')\n",
    "plt.ylabel('Densidade')\n",
    "plt.savefig('4_normalização_minmax_scale.svg')\n",
    "plt.savefig('4_normalização_minmax_scale.png')"
   ]
  },
  {
   "cell_type": "code",
   "execution_count": 14,
   "metadata": {},
   "outputs": [],
   "source": [
    "df['afinn_score_norm'] = normalizadoComRaiz2"
   ]
  },
  {
   "cell_type": "markdown",
   "metadata": {},
   "source": [
    "### Z-score normalization"
   ]
  },
  {
   "cell_type": "code",
   "execution_count": 31,
   "metadata": {},
   "outputs": [],
   "source": [
    "def zscoreNormalization(x, mean, std):\n",
    "    return (x-mean)/std\n",
    "    "
   ]
  },
  {
   "cell_type": "code",
   "execution_count": 30,
   "metadata": {},
   "outputs": [],
   "source": [
    "mean, std = np.mean(df['afinn_score']), np.std(df['afinn_score'])"
   ]
  },
  {
   "cell_type": "code",
   "execution_count": 32,
   "metadata": {},
   "outputs": [],
   "source": [
    "df['afinn_zscored'] = df.apply(lambda row: zscoreNormalization(row['afinn_score'], mean, std), axis=1)"
   ]
  },
  {
   "cell_type": "code",
   "execution_count": 35,
   "metadata": {},
   "outputs": [
    {
     "data": {
      "image/png": "[encoded data removed]",
      "text/plain": [
       "<Figure size 1080x720 with 1 Axes>"
      ]
     },
     "metadata": {},
     "output_type": "display_data"
    }
   ],
   "source": [
    "# Criando o ambiente do gráfico \n",
    "sns.set_style(\"white\")\n",
    "fig, ax = plt.subplots(1, 1, figsize=(15, 10))\n",
    "\n",
    "# Insere curva KDE (Kernel Density Estimation)\n",
    "g2 = sns.distplot(df[\"textblob_score\"], ax=ax, \n",
    "                  kde=True, hist=False, label='Textblob')\n",
    "# Insere curva KDE (Kernel Density Estimation)\n",
    "g3 = sns.distplot(df[\"vader_score\"], ax=ax, \n",
    "                  kde=True, hist=False, label='Vader')\n",
    "# Insere curva KDE (Kernel Density Estimation)\n",
    "g3 = sns.distplot(df['afinn_zscored'], ax=ax, \n",
    "                  kde=True, hist=False, label='Afinn Z-score')\n",
    "plt.legend()\n",
    "plt.xlabel('Polaridade')\n",
    "plt.ylabel('Densidade')\n",
    "plt.savefig('5_afinn_zscore.svg')\n",
    "plt.savefig('5_afinn_zscore.png')"
   ]
  },
  {
   "cell_type": "code",
   "execution_count": 37,
   "metadata": {},
   "outputs": [],
   "source": [
    "afinn_zscored = np.array(df['afinn_zscored'])"
   ]
  },
  {
   "cell_type": "code",
   "execution_count": 40,
   "metadata": {},
   "outputs": [],
   "source": [
    "afinn_zscored_norm = MinMaxScaler(feature_range=(-1,1)).fit_transform(afinn_zscored.reshape(-1, 1))"
   ]
  },
  {
   "cell_type": "code",
   "execution_count": 41,
   "metadata": {},
   "outputs": [],
   "source": [
    "df['afinn_zscored_norm'] = afinn_zscored_norm"
   ]
  },
  {
   "cell_type": "code",
   "execution_count": 43,
   "metadata": {},
   "outputs": [
    {
     "data": {
      "image/png": "[encoded data removed]",
      "text/plain": [
       "<Figure size 1080x720 with 1 Axes>"
      ]
     },
     "metadata": {},
     "output_type": "display_data"
    }
   ],
   "source": [
    "# Criando o ambiente do gráfico \n",
    "sns.set_style(\"white\")\n",
    "fig, ax = plt.subplots(1, 1, figsize=(15, 10))\n",
    "\n",
    "# Insere curva KDE (Kernel Density Estimation)\n",
    "g2 = sns.distplot(df[\"textblob_score\"], ax=ax, \n",
    "                  kde=True, hist=False, label='Textblob')\n",
    "# Insere curva KDE (Kernel Density Estimation)\n",
    "g3 = sns.distplot(df[\"vader_score\"], ax=ax, \n",
    "                  kde=True, hist=False, label='Vader')\n",
    "# Insere curva KDE (Kernel Density Estimation)\n",
    "g3 = sns.distplot(df['afinn_zscored_norm'], ax=ax, \n",
    "                  kde=True, hist=False, label='Afinn Z-scored norm')\n",
    "plt.legend()\n",
    "plt.xlabel('Polaridade')\n",
    "plt.ylabel('Densidade')\n",
    "plt.savefig('6_afinn_zscore_norm.svg')\n",
    "plt.savefig('6_afinn_zscore_norm.png')"
   ]
  },
  {
   "cell_type": "markdown",
   "metadata": {},
   "source": [
    "### Textblob normalization"
   ]
  },
  {
   "cell_type": "code",
   "execution_count": 52,
   "metadata": {},
   "outputs": [],
   "source": [
    "textblob_score = df['textblob_score']\n",
    "vader_score = df['vader_score']"
   ]
  },
  {
   "cell_type": "code",
   "execution_count": 53,
   "metadata": {},
   "outputs": [],
   "source": [
    "textblob_norm = MinMaxScaler(feature_range=(-1,1)).fit_transform(textblob_score.values.reshape(-1,1))\n",
    "vader_norm = MinMaxScaler(feature_range=(-1,1)).fit_transform(vader_score.values.reshape(-1,1))"
   ]
  },
  {
   "cell_type": "code",
   "execution_count": 54,
   "metadata": {},
   "outputs": [
    {
     "data": {
      "text/plain": [
       "Text(0, 0.5, 'Densidade')"
      ]
     },
     "execution_count": 54,
     "metadata": {},
     "output_type": "execute_result"
    },
    {
     "data": {
      "image/png": "[encoded data removed]",
      "text/plain": [
       "<Figure size 1080x720 with 1 Axes>"
      ]
     },
     "metadata": {},
     "output_type": "display_data"
    }
   ],
   "source": [
    "# Criando o ambiente do gráfico \n",
    "sns.set_style(\"white\")\n",
    "fig, ax = plt.subplots(1, 1, figsize=(15, 10))\n",
    "\n",
    "# Insere curva KDE (Kernel Density Estimation)\n",
    "g2 = sns.distplot(textblob_norm, ax=ax, \n",
    "                  kde=True, hist=False, label='Textblob')\n",
    "# Insere curva KDE (Kernel Density Estimation)\n",
    "g3 = sns.distplot(vader_norm, ax=ax, \n",
    "                  kde=True, hist=False, label='Vader')\n",
    "# Insere curva KDE (Kernel Density Estimation)\n",
    "g3 = sns.distplot(df['afinn_score_norm'], ax=ax, \n",
    "                  kde=True, hist=False, label='Afinn Z-score')\n",
    "plt.legend()\n",
    "plt.xlabel('Polaridade')\n",
    "plt.ylabel('Densidade')"
   ]
  },
  {
   "cell_type": "markdown",
   "metadata": {},
   "source": [
    "### Textblob"
   ]
  },
  {
   "cell_type": "code",
   "execution_count": 50,
   "metadata": {},
   "outputs": [],
   "source": [
    "from textblob import TextBlob"
   ]
  },
  {
   "cell_type": "code",
   "execution_count": 51,
   "metadata": {},
   "outputs": [],
   "source": [
    "# determine the sentiment\n",
    "def getScore(score):\n",
    "    if score < 0:\n",
    "        return 'Negative'\n",
    "    elif score == 0:\n",
    "        return 'Neutral'\n",
    "    else:\n",
    "        return 'Positive'"
   ]
  },
  {
   "cell_type": "code",
   "execution_count": 52,
   "metadata": {},
   "outputs": [],
   "source": [
    "from tqdm import tqdm\n",
    "tqdm.pandas()"
   ]
  },
  {
   "cell_type": "code",
   "execution_count": 53,
   "metadata": {},
   "outputs": [
    {
     "name": "stderr",
     "output_type": "stream",
     "text": [
      "100%|██████████| 3667775/3667775 [21:50<00:00, 2797.75it/s]\n",
      "100%|██████████| 3667775/3667775 [22:15<00:00, 2746.57it/s]\n",
      "100%|██████████| 3667775/3667775 [00:35<00:00, 104710.60it/s]\n"
     ]
    }
   ],
   "source": [
    "#Create two new columns ‘Subjectivity’ & ‘Polarity’\n",
    "df['textBlob_subjectivity'] = df.progress_apply(lambda row: getSubjectivity(row['processed_text']), axis=1)\n",
    "df['textBlob_polarity'] = df.progress_apply(lambda row: getPolarity(row['processed_text']), axis=1)    \n",
    "df['textBlob_analysis'] = df.progress_apply(lambda row: getAnalysis(row['textBlob_polarity']), axis=1)\n",
    "\n",
    "df.to_csv('processed_text_withemojis_tb.csv', index=False)"
   ]
  },
  {
   "cell_type": "markdown",
   "metadata": {},
   "source": [
    "### Vader"
   ]
  },
  {
   "cell_type": "code",
   "execution_count": 56,
   "metadata": {},
   "outputs": [],
   "source": [
    "from vaderSentiment.vaderSentiment import SentimentIntensityAnalyzer\n",
    "\n",
    "analyzer = SentimentIntensityAnalyzer()\n",
    "\n",
    "#checks if value is string\n",
    "def checkIfValueIsString(test_string):\n",
    "    return isinstance(test_string, str)\n",
    "\n",
    "# create a function to get the subjectivity\n",
    "def getScores(text):\n",
    "    if (checkIfValueIsString(text) == True):\n",
    "        return analyzer.polarity_scores(text)\n",
    "    else:\n",
    "        return 0\n",
    "\n",
    "#Create two new columns ‘Subjectivity’ & ‘Polarity’\n",
    "df['vader_scores'] = df.progress_apply(lambda row: getScores(row['processed_text']), axis=1)\n",
    "\n",
    "df.to_csv('processed_text_withemojis_tb_vd.csv', index=False)"
   ]
  },
  {
   "cell_type": "code",
   "execution_count": 71,
   "metadata": {},
   "outputs": [
    {
     "name": "stderr",
     "output_type": "stream",
     "text": [
      "100%|██████████| 3667775/3667775 [00:36<00:00, 99794.01it/s] \n",
      "100%|██████████| 3667775/3667775 [00:36<00:00, 99727.26it/s] \n",
      "100%|██████████| 3667775/3667775 [00:36<00:00, 99931.88it/s] \n",
      "100%|██████████| 3667775/3667775 [00:37<00:00, 98459.80it/s] \n"
     ]
    }
   ],
   "source": [
    "df['vader_neg'] = df.progress_apply(lambda row: row['vader_scores']['neg'], axis=1)\n",
    "df['vader_neu'] = df.progress_apply(lambda row: row['vader_scores']['neu'], axis=1)\n",
    "df['vader_pos'] = df.progress_apply(lambda row: row['vader_scores']['pos'], axis=1)\n",
    "df['vader_compound'] = df.progress_apply(lambda row: row['vader_scores']['compound'], axis=1)"
   ]
  },
  {
   "cell_type": "code",
   "execution_count": 72,
   "metadata": {},
   "outputs": [
    {
     "data": {
      "text/html": [
       "<div>\n",
       "<style scoped>\n",
       "    .dataframe tbody tr th:only-of-type {\n",
       "        vertical-align: middle;\n",
       "    }\n",
       "\n",
       "    .dataframe tbody tr th {\n",
       "        vertical-align: top;\n",
       "    }\n",
       "\n",
       "    .dataframe thead th {\n",
       "        text-align: right;\n",
       "    }\n",
       "</style>\n",
       "<table border=\"1\" class=\"dataframe\">\n",
       "  <thead>\n",
       "    <tr style=\"text-align: right;\">\n",
       "      <th></th>\n",
       "      <th>datetime</th>\n",
       "      <th>tweet_id</th>\n",
       "      <th>text</th>\n",
       "      <th>processed_text</th>\n",
       "      <th>textBlob_subjectivity</th>\n",
       "      <th>textBlob_polarity</th>\n",
       "      <th>textBlob_analysis</th>\n",
       "      <th>vader_scores</th>\n",
       "      <th>vader_neg</th>\n",
       "      <th>vader_neu</th>\n",
       "      <th>vader_pos</th>\n",
       "      <th>vader_compound</th>\n",
       "    </tr>\n",
       "  </thead>\n",
       "  <tbody>\n",
       "    <tr>\n",
       "      <th>0</th>\n",
       "      <td>2021-10-01 00:12:02+00:00</td>\n",
       "      <td>1443730389986590720</td>\n",
       "      <td>✨Join me this Sunday to celebrate 6 months sin...</td>\n",
       "      <td>✨ join thil sunday celebrat 6 month sinc genes...</td>\n",
       "      <td>0.65</td>\n",
       "      <td>0.4375</td>\n",
       "      <td>Positive</td>\n",
       "      <td>{'neg': 0.0, 'neu': 0.738, 'pos': 0.262, 'comp...</td>\n",
       "      <td>0.0</td>\n",
       "      <td>0.738</td>\n",
       "      <td>0.262</td>\n",
       "      <td>0.8852</td>\n",
       "    </tr>\n",
       "    <tr>\n",
       "      <th>1</th>\n",
       "      <td>2021-10-01 00:13:00+00:00</td>\n",
       "      <td>1443730633360953344</td>\n",
       "      <td>@top7ico @MXCfoundation @DeFinePlatform @YOPfi...</td>\n",
       "      <td>@top7 @mxcfoundation @defineplatform @yopf @o3...</td>\n",
       "      <td>0.30</td>\n",
       "      <td>1.0000</td>\n",
       "      <td>Positive</td>\n",
       "      <td>{'neg': 0.0, 'neu': 0.798, 'pos': 0.202, 'comp...</td>\n",
       "      <td>0.0</td>\n",
       "      <td>0.798</td>\n",
       "      <td>0.202</td>\n",
       "      <td>0.7249</td>\n",
       "    </tr>\n",
       "    <tr>\n",
       "      <th>2</th>\n",
       "      <td>2021-10-01 00:13:09+00:00</td>\n",
       "      <td>1443730669419446291</td>\n",
       "      <td>@MetaSpatial_io Good project go to the moon 🚀🚀...</td>\n",
       "      <td>@metaspatial_i good project go moon 🚀 🚀 🚀 @muh...</td>\n",
       "      <td>0.60</td>\n",
       "      <td>0.7000</td>\n",
       "      <td>Positive</td>\n",
       "      <td>{'neg': 0.0, 'neu': 0.838, 'pos': 0.162, 'comp...</td>\n",
       "      <td>0.0</td>\n",
       "      <td>0.838</td>\n",
       "      <td>0.162</td>\n",
       "      <td>0.4404</td>\n",
       "    </tr>\n",
       "    <tr>\n",
       "      <th>3</th>\n",
       "      <td>2021-10-01 00:13:18+00:00</td>\n",
       "      <td>1443730706409033728</td>\n",
       "      <td>@Metaverse_Yin I just take the hype as alpha lol</td>\n",
       "      <td>@metaverse_yin tak hyp alph lol</td>\n",
       "      <td>0.70</td>\n",
       "      <td>0.8000</td>\n",
       "      <td>Positive</td>\n",
       "      <td>{'neg': 0.0, 'neu': 0.588, 'pos': 0.412, 'comp...</td>\n",
       "      <td>0.0</td>\n",
       "      <td>0.588</td>\n",
       "      <td>0.412</td>\n",
       "      <td>0.4215</td>\n",
       "    </tr>\n",
       "    <tr>\n",
       "      <th>4</th>\n",
       "      <td>2021-10-01 00:13:56+00:00</td>\n",
       "      <td>1443730867797565442</td>\n",
       "      <td>@Metaverse_Yin Keep it coming ! Lmao</td>\n",
       "      <td>@metaverse_yin keep coming ! lma</td>\n",
       "      <td>0.00</td>\n",
       "      <td>0.0000</td>\n",
       "      <td>Neutral</td>\n",
       "      <td>{'neg': 0.0, 'neu': 1.0, 'pos': 0.0, 'compound...</td>\n",
       "      <td>0.0</td>\n",
       "      <td>1.000</td>\n",
       "      <td>0.000</td>\n",
       "      <td>0.0000</td>\n",
       "    </tr>\n",
       "  </tbody>\n",
       "</table>\n",
       "</div>"
      ],
      "text/plain": [
       "                    datetime             tweet_id  \\\n",
       "0  2021-10-01 00:12:02+00:00  1443730389986590720   \n",
       "1  2021-10-01 00:13:00+00:00  1443730633360953344   \n",
       "2  2021-10-01 00:13:09+00:00  1443730669419446291   \n",
       "3  2021-10-01 00:13:18+00:00  1443730706409033728   \n",
       "4  2021-10-01 00:13:56+00:00  1443730867797565442   \n",
       "\n",
       "                                                text  \\\n",
       "0  ✨Join me this Sunday to celebrate 6 months sin...   \n",
       "1  @top7ico @MXCfoundation @DeFinePlatform @YOPfi...   \n",
       "2  @MetaSpatial_io Good project go to the moon 🚀🚀...   \n",
       "3   @Metaverse_Yin I just take the hype as alpha lol   \n",
       "4               @Metaverse_Yin Keep it coming ! Lmao   \n",
       "\n",
       "                                      processed_text  textBlob_subjectivity  \\\n",
       "0  ✨ join thil sunday celebrat 6 month sinc genes...                   0.65   \n",
       "1  @top7 @mxcfoundation @defineplatform @yopf @o3...                   0.30   \n",
       "2  @metaspatial_i good project go moon 🚀 🚀 🚀 @muh...                   0.60   \n",
       "3                    @metaverse_yin tak hyp alph lol                   0.70   \n",
       "4                   @metaverse_yin keep coming ! lma                   0.00   \n",
       "\n",
       "   textBlob_polarity textBlob_analysis  \\\n",
       "0             0.4375          Positive   \n",
       "1             1.0000          Positive   \n",
       "2             0.7000          Positive   \n",
       "3             0.8000          Positive   \n",
       "4             0.0000           Neutral   \n",
       "\n",
       "                                        vader_scores  vader_neg  vader_neu  \\\n",
       "0  {'neg': 0.0, 'neu': 0.738, 'pos': 0.262, 'comp...        0.0      0.738   \n",
       "1  {'neg': 0.0, 'neu': 0.798, 'pos': 0.202, 'comp...        0.0      0.798   \n",
       "2  {'neg': 0.0, 'neu': 0.838, 'pos': 0.162, 'comp...        0.0      0.838   \n",
       "3  {'neg': 0.0, 'neu': 0.588, 'pos': 0.412, 'comp...        0.0      0.588   \n",
       "4  {'neg': 0.0, 'neu': 1.0, 'pos': 0.0, 'compound...        0.0      1.000   \n",
       "\n",
       "   vader_pos  vader_compound  \n",
       "0      0.262          0.8852  \n",
       "1      0.202          0.7249  \n",
       "2      0.162          0.4404  \n",
       "3      0.412          0.4215  \n",
       "4      0.000          0.0000  "
      ]
     },
     "execution_count": 72,
     "metadata": {},
     "output_type": "execute_result"
    }
   ],
   "source": [
    "df.head()"
   ]
  },
  {
   "cell_type": "code",
   "execution_count": 74,
   "metadata": {},
   "outputs": [],
   "source": [
    "df = df[['datetime', 'tweet_id', 'text', 'processed_text',\n",
    "       'textBlob_subjectivity', 'textBlob_polarity', \n",
    "       'textBlob_analysis','vader_compound']]"
   ]
  },
  {
   "cell_type": "code",
   "execution_count": 75,
   "metadata": {},
   "outputs": [
    {
     "data": {
      "text/html": [
       "<div>\n",
       "<style scoped>\n",
       "    .dataframe tbody tr th:only-of-type {\n",
       "        vertical-align: middle;\n",
       "    }\n",
       "\n",
       "    .dataframe tbody tr th {\n",
       "        vertical-align: top;\n",
       "    }\n",
       "\n",
       "    .dataframe thead th {\n",
       "        text-align: right;\n",
       "    }\n",
       "</style>\n",
       "<table border=\"1\" class=\"dataframe\">\n",
       "  <thead>\n",
       "    <tr style=\"text-align: right;\">\n",
       "      <th></th>\n",
       "      <th>datetime</th>\n",
       "      <th>tweet_id</th>\n",
       "      <th>text</th>\n",
       "      <th>processed_text</th>\n",
       "      <th>textBlob_subjectivity</th>\n",
       "      <th>textBlob_polarity</th>\n",
       "      <th>textBlob_analysis</th>\n",
       "      <th>vader_compound</th>\n",
       "    </tr>\n",
       "  </thead>\n",
       "  <tbody>\n",
       "    <tr>\n",
       "      <th>0</th>\n",
       "      <td>2021-10-01 00:12:02+00:00</td>\n",
       "      <td>1443730389986590720</td>\n",
       "      <td>✨Join me this Sunday to celebrate 6 months sin...</td>\n",
       "      <td>✨ join thil sunday celebrat 6 month sinc genes...</td>\n",
       "      <td>0.65</td>\n",
       "      <td>0.4375</td>\n",
       "      <td>Positive</td>\n",
       "      <td>0.8852</td>\n",
       "    </tr>\n",
       "    <tr>\n",
       "      <th>1</th>\n",
       "      <td>2021-10-01 00:13:00+00:00</td>\n",
       "      <td>1443730633360953344</td>\n",
       "      <td>@top7ico @MXCfoundation @DeFinePlatform @YOPfi...</td>\n",
       "      <td>@top7 @mxcfoundation @defineplatform @yopf @o3...</td>\n",
       "      <td>0.30</td>\n",
       "      <td>1.0000</td>\n",
       "      <td>Positive</td>\n",
       "      <td>0.7249</td>\n",
       "    </tr>\n",
       "    <tr>\n",
       "      <th>2</th>\n",
       "      <td>2021-10-01 00:13:09+00:00</td>\n",
       "      <td>1443730669419446291</td>\n",
       "      <td>@MetaSpatial_io Good project go to the moon 🚀🚀...</td>\n",
       "      <td>@metaspatial_i good project go moon 🚀 🚀 🚀 @muh...</td>\n",
       "      <td>0.60</td>\n",
       "      <td>0.7000</td>\n",
       "      <td>Positive</td>\n",
       "      <td>0.4404</td>\n",
       "    </tr>\n",
       "    <tr>\n",
       "      <th>3</th>\n",
       "      <td>2021-10-01 00:13:18+00:00</td>\n",
       "      <td>1443730706409033728</td>\n",
       "      <td>@Metaverse_Yin I just take the hype as alpha lol</td>\n",
       "      <td>@metaverse_yin tak hyp alph lol</td>\n",
       "      <td>0.70</td>\n",
       "      <td>0.8000</td>\n",
       "      <td>Positive</td>\n",
       "      <td>0.4215</td>\n",
       "    </tr>\n",
       "    <tr>\n",
       "      <th>4</th>\n",
       "      <td>2021-10-01 00:13:56+00:00</td>\n",
       "      <td>1443730867797565442</td>\n",
       "      <td>@Metaverse_Yin Keep it coming ! Lmao</td>\n",
       "      <td>@metaverse_yin keep coming ! lma</td>\n",
       "      <td>0.00</td>\n",
       "      <td>0.0000</td>\n",
       "      <td>Neutral</td>\n",
       "      <td>0.0000</td>\n",
       "    </tr>\n",
       "  </tbody>\n",
       "</table>\n",
       "</div>"
      ],
      "text/plain": [
       "                    datetime             tweet_id  \\\n",
       "0  2021-10-01 00:12:02+00:00  1443730389986590720   \n",
       "1  2021-10-01 00:13:00+00:00  1443730633360953344   \n",
       "2  2021-10-01 00:13:09+00:00  1443730669419446291   \n",
       "3  2021-10-01 00:13:18+00:00  1443730706409033728   \n",
       "4  2021-10-01 00:13:56+00:00  1443730867797565442   \n",
       "\n",
       "                                                text  \\\n",
       "0  ✨Join me this Sunday to celebrate 6 months sin...   \n",
       "1  @top7ico @MXCfoundation @DeFinePlatform @YOPfi...   \n",
       "2  @MetaSpatial_io Good project go to the moon 🚀🚀...   \n",
       "3   @Metaverse_Yin I just take the hype as alpha lol   \n",
       "4               @Metaverse_Yin Keep it coming ! Lmao   \n",
       "\n",
       "                                      processed_text  textBlob_subjectivity  \\\n",
       "0  ✨ join thil sunday celebrat 6 month sinc genes...                   0.65   \n",
       "1  @top7 @mxcfoundation @defineplatform @yopf @o3...                   0.30   \n",
       "2  @metaspatial_i good project go moon 🚀 🚀 🚀 @muh...                   0.60   \n",
       "3                    @metaverse_yin tak hyp alph lol                   0.70   \n",
       "4                   @metaverse_yin keep coming ! lma                   0.00   \n",
       "\n",
       "   textBlob_polarity textBlob_analysis  vader_compound  \n",
       "0             0.4375          Positive          0.8852  \n",
       "1             1.0000          Positive          0.7249  \n",
       "2             0.7000          Positive          0.4404  \n",
       "3             0.8000          Positive          0.4215  \n",
       "4             0.0000           Neutral          0.0000  "
      ]
     },
     "execution_count": 75,
     "metadata": {},
     "output_type": "execute_result"
    }
   ],
   "source": [
    "df.head()"
   ]
  },
  {
   "cell_type": "code",
   "execution_count": 76,
   "metadata": {},
   "outputs": [],
   "source": [
    "df.to_csv('processed_text_withemojis_tb_vd.csv', index=False)"
   ]
  },
  {
   "cell_type": "markdown",
   "metadata": {},
   "source": [
    "### Afinn"
   ]
  },
  {
   "cell_type": "code",
   "execution_count": 78,
   "metadata": {},
   "outputs": [],
   "source": [
    "#importing necessary libraries\n",
    "from afinn import Afinn\n",
    "#instantiate afinn\n",
    "afn = Afinn()\n",
    "\n",
    "#checks if value is string\n",
    "def checkIfValueIsString(test_string):\n",
    "    return isinstance(test_string, str)\n",
    "\n",
    "# create a function to get the subjectivity\n",
    "def getAfinnScores(text):\n",
    "    if (checkIfValueIsString(text) == True):\n",
    "        return afn.score(text)\n",
    "    else:\n",
    "        return 0\n",
    "\n",
    "df['afinn_score'] = df.progress_apply(lambda row: getAfinnScores(row['processed_text']), axis=1)"
   ]
  },
  {
   "cell_type": "code",
   "execution_count": 81,
   "metadata": {},
   "outputs": [
    {
     "data": {
      "text/html": [
       "<div>\n",
       "<style scoped>\n",
       "    .dataframe tbody tr th:only-of-type {\n",
       "        vertical-align: middle;\n",
       "    }\n",
       "\n",
       "    .dataframe tbody tr th {\n",
       "        vertical-align: top;\n",
       "    }\n",
       "\n",
       "    .dataframe thead th {\n",
       "        text-align: right;\n",
       "    }\n",
       "</style>\n",
       "<table border=\"1\" class=\"dataframe\">\n",
       "  <thead>\n",
       "    <tr style=\"text-align: right;\">\n",
       "      <th></th>\n",
       "      <th>datetime</th>\n",
       "      <th>tweet_id</th>\n",
       "      <th>text</th>\n",
       "      <th>processed_text</th>\n",
       "      <th>textBlob_subjectivity</th>\n",
       "      <th>textBlob_polarity</th>\n",
       "      <th>textBlob_analysis</th>\n",
       "      <th>vader_compound</th>\n",
       "      <th>afinn_score</th>\n",
       "    </tr>\n",
       "  </thead>\n",
       "  <tbody>\n",
       "    <tr>\n",
       "      <th>0</th>\n",
       "      <td>2021-10-01 00:12:02+00:00</td>\n",
       "      <td>1443730389986590720</td>\n",
       "      <td>✨Join me this Sunday to celebrate 6 months sin...</td>\n",
       "      <td>✨ join thil sunday celebrat 6 month sinc genes...</td>\n",
       "      <td>0.65</td>\n",
       "      <td>0.4375</td>\n",
       "      <td>Positive</td>\n",
       "      <td>0.8852</td>\n",
       "      <td>3.0</td>\n",
       "    </tr>\n",
       "    <tr>\n",
       "      <th>1</th>\n",
       "      <td>2021-10-01 00:13:00+00:00</td>\n",
       "      <td>1443730633360953344</td>\n",
       "      <td>@top7ico @MXCfoundation @DeFinePlatform @YOPfi...</td>\n",
       "      <td>@top7 @mxcfoundation @defineplatform @yopf @o3...</td>\n",
       "      <td>0.30</td>\n",
       "      <td>1.0000</td>\n",
       "      <td>Positive</td>\n",
       "      <td>0.7249</td>\n",
       "      <td>3.0</td>\n",
       "    </tr>\n",
       "    <tr>\n",
       "      <th>2</th>\n",
       "      <td>2021-10-01 00:13:09+00:00</td>\n",
       "      <td>1443730669419446291</td>\n",
       "      <td>@MetaSpatial_io Good project go to the moon 🚀🚀...</td>\n",
       "      <td>@metaspatial_i good project go moon 🚀 🚀 🚀 @muh...</td>\n",
       "      <td>0.60</td>\n",
       "      <td>0.7000</td>\n",
       "      <td>Positive</td>\n",
       "      <td>0.4404</td>\n",
       "      <td>3.0</td>\n",
       "    </tr>\n",
       "    <tr>\n",
       "      <th>3</th>\n",
       "      <td>2021-10-01 00:13:18+00:00</td>\n",
       "      <td>1443730706409033728</td>\n",
       "      <td>@Metaverse_Yin I just take the hype as alpha lol</td>\n",
       "      <td>@metaverse_yin tak hyp alph lol</td>\n",
       "      <td>0.70</td>\n",
       "      <td>0.8000</td>\n",
       "      <td>Positive</td>\n",
       "      <td>0.4215</td>\n",
       "      <td>3.0</td>\n",
       "    </tr>\n",
       "    <tr>\n",
       "      <th>4</th>\n",
       "      <td>2021-10-01 00:13:56+00:00</td>\n",
       "      <td>1443730867797565442</td>\n",
       "      <td>@Metaverse_Yin Keep it coming ! Lmao</td>\n",
       "      <td>@metaverse_yin keep coming ! lma</td>\n",
       "      <td>0.00</td>\n",
       "      <td>0.0000</td>\n",
       "      <td>Neutral</td>\n",
       "      <td>0.0000</td>\n",
       "      <td>0.0</td>\n",
       "    </tr>\n",
       "  </tbody>\n",
       "</table>\n",
       "</div>"
      ],
      "text/plain": [
       "                    datetime             tweet_id  \\\n",
       "0  2021-10-01 00:12:02+00:00  1443730389986590720   \n",
       "1  2021-10-01 00:13:00+00:00  1443730633360953344   \n",
       "2  2021-10-01 00:13:09+00:00  1443730669419446291   \n",
       "3  2021-10-01 00:13:18+00:00  1443730706409033728   \n",
       "4  2021-10-01 00:13:56+00:00  1443730867797565442   \n",
       "\n",
       "                                                text  \\\n",
       "0  ✨Join me this Sunday to celebrate 6 months sin...   \n",
       "1  @top7ico @MXCfoundation @DeFinePlatform @YOPfi...   \n",
       "2  @MetaSpatial_io Good project go to the moon 🚀🚀...   \n",
       "3   @Metaverse_Yin I just take the hype as alpha lol   \n",
       "4               @Metaverse_Yin Keep it coming ! Lmao   \n",
       "\n",
       "                                      processed_text  textBlob_subjectivity  \\\n",
       "0  ✨ join thil sunday celebrat 6 month sinc genes...                   0.65   \n",
       "1  @top7 @mxcfoundation @defineplatform @yopf @o3...                   0.30   \n",
       "2  @metaspatial_i good project go moon 🚀 🚀 🚀 @muh...                   0.60   \n",
       "3                    @metaverse_yin tak hyp alph lol                   0.70   \n",
       "4                   @metaverse_yin keep coming ! lma                   0.00   \n",
       "\n",
       "   textBlob_polarity textBlob_analysis  vader_compound  afinn_score  \n",
       "0             0.4375          Positive          0.8852          3.0  \n",
       "1             1.0000          Positive          0.7249          3.0  \n",
       "2             0.7000          Positive          0.4404          3.0  \n",
       "3             0.8000          Positive          0.4215          3.0  \n",
       "4             0.0000           Neutral          0.0000          0.0  "
      ]
     },
     "execution_count": 81,
     "metadata": {},
     "output_type": "execute_result"
    }
   ],
   "source": [
    "df.head()"
   ]
  },
  {
   "cell_type": "code",
   "execution_count": 88,
   "metadata": {},
   "outputs": [],
   "source": [
    "df.to_csv('processed_text_withemojis_tb_vd_af.csv', index=False)"
   ]
  },
  {
   "cell_type": "code",
   "execution_count": null,
   "metadata": {},
   "outputs": [],
   "source": [
    "df['datetime'] = pd.to_datetime(df['datetime'])"
   ]
  },
  {
   "cell_type": "code",
   "execution_count": 191,
   "metadata": {},
   "outputs": [
    {
     "data": {
      "text/plain": [
       "Index(['datetime', 'tweet_id', 'text', 'text_lower', 'processed_text',\n",
       "       'textBlob_subjectivity', 'textBlob_polarity', 'textBlob_analysis',\n",
       "       'vader_compound', 'afinn_score'],\n",
       "      dtype='object')"
      ]
     },
     "execution_count": 191,
     "metadata": {},
     "output_type": "execute_result"
    }
   ],
   "source": [
    "df.columns"
   ]
  },
  {
   "cell_type": "code",
   "execution_count": 192,
   "metadata": {},
   "outputs": [],
   "source": [
    "frame = df[['datetime', 'tweet_id', 'text', 'text_lower', 'processed_text', 'textBlob_polarity', 'textBlob_analysis',\n",
    "       'vader_compound', 'afinn_score']]"
   ]
  },
  {
   "cell_type": "code",
   "execution_count": 195,
   "metadata": {},
   "outputs": [],
   "source": [
    "frame.to_csv('processed_text_withemojis_scores.csv', index=False)"
   ]
  },
  {
   "cell_type": "markdown",
   "metadata": {},
   "source": [
    "### Delimitando tweets que realmente falam sobre o metaverso\n",
    "\n",
    "<blockquote>A força do tweet é determinada pela presença na pesquisa pelos usuários do Google Trends</blockquote>"
   ]
  },
  {
   "cell_type": "markdown",
   "metadata": {},
   "source": [
    "Singular\n",
    "\n",
    "- metaverse is (139237)\n",
    "- what metaverse (2932)\n",
    "- is metaverse (31952)\n",
    "- what is metaverse (1794)\n",
    "- what metaverse is (884)\n",
    "\n",
    "Plural\n",
    "\n",
    "- metaverses are (604)\n",
    "- what metaverses (26)\n",
    "- are metaverses (58)\n",
    "- what are metaverses (0)\n",
    "- what metaverses are (9)"
   ]
  },
  {
   "cell_type": "markdown",
   "metadata": {},
   "source": [
    "<blockquote>Textos que fazem parte das pesquisas feitas por usuários são considerados fortes. Os tweets que contém os termos irão compor os tópicos fortemente relacionados</blockquote>"
   ]
  },
  {
   "cell_type": "code",
   "execution_count": 170,
   "metadata": {},
   "outputs": [],
   "source": [
    "relatedTopics = 'metaverse is|what metaverse|is metaverse|what is metaverse|what metaverse is|metaverses are|what metaverses|are metaverses|what metaverses are'"
   ]
  },
  {
   "cell_type": "code",
   "execution_count": 176,
   "metadata": {},
   "outputs": [
    {
     "data": {
      "text/plain": [
       "textBlob_analysis\n",
       "Negative     301550\n",
       "Neutral     1656337\n",
       "Positive    1709888\n",
       "Name: text, dtype: int64"
      ]
     },
     "execution_count": 176,
     "metadata": {},
     "output_type": "execute_result"
    }
   ],
   "source": [
    "df.groupby('textBlob_analysis')['text'].count()"
   ]
  },
  {
   "cell_type": "markdown",
   "metadata": {},
   "source": [
    "### Tweets fracamente relacionados"
   ]
  },
  {
   "cell_type": "code",
   "execution_count": 187,
   "metadata": {},
   "outputs": [
    {
     "data": {
      "text/plain": [
       "textBlob_analysis  datetime                 \n",
       "Negative           2021-10-31 00:00:00+00:00     24916\n",
       "                   2021-11-30 00:00:00+00:00     46056\n",
       "                   2021-12-31 00:00:00+00:00     43131\n",
       "                   2022-01-31 00:00:00+00:00     48959\n",
       "                   2022-02-28 00:00:00+00:00     42377\n",
       "                   2022-03-31 00:00:00+00:00     37829\n",
       "                   2022-04-30 00:00:00+00:00     34834\n",
       "Neutral            2021-10-31 00:00:00+00:00    127894\n",
       "                   2021-11-30 00:00:00+00:00    275846\n",
       "                   2021-12-31 00:00:00+00:00    244851\n",
       "                   2022-01-31 00:00:00+00:00    267519\n",
       "                   2022-02-28 00:00:00+00:00    227776\n",
       "                   2022-03-31 00:00:00+00:00    213656\n",
       "                   2022-04-30 00:00:00+00:00    227912\n",
       "Positive           2021-10-31 00:00:00+00:00    135728\n",
       "                   2021-11-30 00:00:00+00:00    314800\n",
       "                   2021-12-31 00:00:00+00:00    268311\n",
       "                   2022-01-31 00:00:00+00:00    281943\n",
       "                   2022-02-28 00:00:00+00:00    208916\n",
       "                   2022-03-31 00:00:00+00:00    200641\n",
       "                   2022-04-30 00:00:00+00:00    221845\n",
       "Name: text, dtype: int64"
      ]
     },
     "execution_count": 187,
     "metadata": {},
     "output_type": "execute_result"
    }
   ],
   "source": [
    "df[~df['text_lower'].str.contains(relatedTopics, regex=True)].set_index('datetime').groupby('textBlob_analysis')['text'].resample('M').count()"
   ]
  },
  {
   "cell_type": "markdown",
   "metadata": {},
   "source": [
    "### Tweets fortemente relacionados"
   ]
  },
  {
   "cell_type": "code",
   "execution_count": 189,
   "metadata": {},
   "outputs": [
    {
     "data": {
      "text/plain": [
       "textBlob_analysis  datetime                 \n",
       "Negative           2021-10-31 00:00:00+00:00     2753\n",
       "                   2021-11-30 00:00:00+00:00     4075\n",
       "                   2021-12-31 00:00:00+00:00     3615\n",
       "                   2022-01-31 00:00:00+00:00     5022\n",
       "                   2022-02-28 00:00:00+00:00     3802\n",
       "                   2022-03-31 00:00:00+00:00     2154\n",
       "                   2022-04-30 00:00:00+00:00     2027\n",
       "Neutral            2021-10-31 00:00:00+00:00     7897\n",
       "                   2021-11-30 00:00:00+00:00    14473\n",
       "                   2021-12-31 00:00:00+00:00    11640\n",
       "                   2022-01-31 00:00:00+00:00    12956\n",
       "                   2022-02-28 00:00:00+00:00     9734\n",
       "                   2022-03-31 00:00:00+00:00     7614\n",
       "                   2022-04-30 00:00:00+00:00     6569\n",
       "Positive           2021-10-31 00:00:00+00:00     7959\n",
       "                   2021-11-30 00:00:00+00:00    15088\n",
       "                   2021-12-31 00:00:00+00:00    12498\n",
       "                   2022-01-31 00:00:00+00:00    13577\n",
       "                   2022-02-28 00:00:00+00:00    11442\n",
       "                   2022-03-31 00:00:00+00:00     9223\n",
       "                   2022-04-30 00:00:00+00:00     7917\n",
       "Name: text, dtype: int64"
      ]
     },
     "execution_count": 189,
     "metadata": {},
     "output_type": "execute_result"
    }
   ],
   "source": [
    "df[df['text_lower'].str.contains(relatedTopics, regex=True)].set_index('datetime').groupby('textBlob_analysis')['text'].resample('M').count()"
   ]
  },
  {
   "cell_type": "markdown",
   "metadata": {},
   "source": [
    "<blockquote>Como pode-se ver na tabela, para comentários fortemente relacionados ao metaverso, o número de comentários positivos supera o número de comentários negativos</blockquote>"
   ]
  },
  {
   "cell_type": "code",
   "execution_count": 197,
   "metadata": {},
   "outputs": [],
   "source": [
    "# TODO: fazer merge com pd.apply e verificar de qual usuário cada base de dados pertence"
   ]
  },
  {
   "cell_type": "code",
   "execution_count": 203,
   "metadata": {},
   "outputs": [],
   "source": [
    "columns=['datetime','tweet_id','username','like_count','username','user_followers','user_fav_count','is_verified','created_at']"
   ]
  },
  {
   "cell_type": "code",
   "execution_count": 204,
   "metadata": {},
   "outputs": [],
   "source": [
    "tweets_users = pd.read_csv(r'C:\\Users\\wferreira.MPAC\\OneDrive\\TCC II - Metaverso\\workspace\\twitter-EDA\\tweets_preprocessing_norm\\tweets_preprocessed_english.csv', usecols=columns)"
   ]
  },
  {
   "cell_type": "markdown",
   "metadata": {},
   "source": [
    "### Merging values of two columns"
   ]
  },
  {
   "cell_type": "code",
   "execution_count": 226,
   "metadata": {},
   "outputs": [],
   "source": [
    "sentiment = df[['tweet_id','textBlob_analysis']]"
   ]
  },
  {
   "cell_type": "code",
   "execution_count": 231,
   "metadata": {},
   "outputs": [],
   "source": [
    "text_lower = df[['tweet_id','text_lower']]"
   ]
  },
  {
   "cell_type": "markdown",
   "metadata": {},
   "source": [
    "##### Inner join"
   ]
  },
  {
   "cell_type": "code",
   "execution_count": 232,
   "metadata": {},
   "outputs": [],
   "source": [
    "merged_inner = pd.merge(left=merged_inner, right=text_lower, left_on='tweet_id', right_on='tweet_id')"
   ]
  },
  {
   "cell_type": "code",
   "execution_count": 1,
   "metadata": {},
   "outputs": [],
   "source": [
    "import pandas as pd"
   ]
  },
  {
   "cell_type": "markdown",
   "metadata": {},
   "source": [
    "#### Salvando sentimentos"
   ]
  },
  {
   "cell_type": "code",
   "execution_count": 2,
   "metadata": {},
   "outputs": [],
   "source": [
    "df = pd.read_csv('sentiment_scores.csv')"
   ]
  },
  {
   "cell_type": "code",
   "execution_count": 9,
   "metadata": {},
   "outputs": [
    {
     "data": {
      "text/plain": [
       "Index(['datetime', 'tweet_id', 'processed_text', 'text_lower',\n",
       "       'textblob_sentiment', 'vader_sentiment', 'afinn_sentiment',\n",
       "       'textblob_score', 'vader_score', 'afinn_score'],\n",
       "      dtype='object')"
      ]
     },
     "execution_count": 9,
     "metadata": {},
     "output_type": "execute_result"
    }
   ],
   "source": [
    "df.columns"
   ]
  },
  {
   "cell_type": "code",
   "execution_count": 28,
   "metadata": {},
   "outputs": [],
   "source": [
    "only_sentiments = df[['processed_text','textblob_sentiment', 'vader_sentiment', 'afinn_sentiment','textblob_score', 'vader_score', 'afinn_score']]"
   ]
  },
  {
   "cell_type": "code",
   "execution_count": 6,
   "metadata": {},
   "outputs": [],
   "source": [
    "import dataframe_image as dfi"
   ]
  },
  {
   "cell_type": "code",
   "execution_count": 18,
   "metadata": {},
   "outputs": [],
   "source": [
    "pd.set_option(\"display.max_column\", None)\n",
    "pd.set_option(\"display.max_colwidth\", 30)\n",
    "pd.set_option('display.width', -1)\n",
    "pd.set_option('display.max_rows', None)"
   ]
  },
  {
   "cell_type": "code",
   "execution_count": 29,
   "metadata": {},
   "outputs": [],
   "source": [
    "only_sentiments.columns = ['processed_text',\n",
    "       'textblob',\n",
    "       'vader',\n",
    "       'afinn',\n",
    "       't_score',\n",
    "       'v_score',\n",
    "       'a_score']"
   ]
  },
  {
   "cell_type": "code",
   "execution_count": null,
   "metadata": {},
   "outputs": [],
   "source": [
    "dfi.export(\n",
    "    only_sentiments.head(20),\n",
    "    \"table_sentiment_and_score_.png\",\n",
    "    table_conversion=\"matplotlib\"\n",
    ")"
   ]
  },
  {
   "cell_type": "markdown",
   "metadata": {},
   "source": [
    "#### Salvando normalização"
   ]
  },
  {
   "cell_type": "code",
   "execution_count": 31,
   "metadata": {},
   "outputs": [],
   "source": [
    "strength = pd.read_csv(r'C:\\Users\\wferreira.MPAC\\OneDrive\\TCC II - Metaverso\\workspace\\twitter-EDA\\tweets_studies_ranking\\strength.csv')"
   ]
  },
  {
   "cell_type": "code",
   "execution_count": 34,
   "metadata": {},
   "outputs": [
    {
     "data": {
      "text/plain": [
       "Index(['datetime',\n",
       "       'date',\n",
       "       'date_month',\n",
       "       'tweet_id',\n",
       "       'processed_text',\n",
       "       'text_lower',\n",
       "       'textblob_sentiment',\n",
       "       'vader_sentiment',\n",
       "       'afinn_sentiment',\n",
       "       'textblob_score',\n",
       "       'vader_score',\n",
       "       'afinn_score',\n",
       "       'afinn_score_norm',\n",
       "       'strength'],\n",
       "      dtype='object')"
      ]
     },
     "execution_count": 34,
     "metadata": {},
     "output_type": "execute_result"
    }
   ],
   "source": [
    "strength.columns"
   ]
  },
  {
   "cell_type": "code",
   "execution_count": 35,
   "metadata": {},
   "outputs": [],
   "source": [
    "only_norm = strength[[\n",
    "       'processed_text',\n",
    "       'textblob_sentiment',\n",
    "       'vader_sentiment',\n",
    "       'afinn_sentiment',\n",
    "       'textblob_score',\n",
    "       'vader_score',\n",
    "       'afinn_score',\n",
    "       'afinn_score_norm']]"
   ]
  },
  {
   "cell_type": "code",
   "execution_count": 38,
   "metadata": {},
   "outputs": [],
   "source": [
    "only_norm.columns = ['processed_text',\n",
    "       'textblob',\n",
    "       'vader',\n",
    "       'afinn',\n",
    "       't_score',\n",
    "       'v_score',\n",
    "       'a_score',\n",
    "       'a_norm_score']"
   ]
  },
  {
   "cell_type": "code",
   "execution_count": 39,
   "metadata": {},
   "outputs": [
    {
     "name": "stderr",
     "output_type": "stream",
     "text": [
      "c:\\Users\\wferreira.MPAC\\AppData\\Local\\Programs\\Python\\Python310\\lib\\site-packages\\dataframe_image\\_matplotlib_table.py:115: UserWarning: Glyph 10024 (\\N{SPARKLES}) missing from current font.\n",
      "  bbox = t.get_window_extent(renderer=self.renderer)\n",
      "c:\\Users\\wferreira.MPAC\\AppData\\Local\\Programs\\Python\\Python310\\lib\\site-packages\\dataframe_image\\_matplotlib_table.py:115: UserWarning: Glyph 128276 (\\N{BELL}) missing from current font.\n",
      "  bbox = t.get_window_extent(renderer=self.renderer)\n",
      "c:\\Users\\wferreira.MPAC\\AppData\\Local\\Programs\\Python\\Python310\\lib\\site-packages\\dataframe_image\\_matplotlib_table.py:115: UserWarning: Glyph 8419 (\\N{COMBINING ENCLOSING KEYCAP}) missing from current font.\n",
      "  bbox = t.get_window_extent(renderer=self.renderer)\n",
      "c:\\Users\\wferreira.MPAC\\AppData\\Local\\Programs\\Python\\Python310\\lib\\site-packages\\dataframe_image\\_matplotlib_table.py:237: UserWarning: Glyph 10024 (\\N{SPARKLES}) missing from current font.\n",
      "  self.fig.savefig(buffer, bbox_inches=bbox)\n",
      "c:\\Users\\wferreira.MPAC\\AppData\\Local\\Programs\\Python\\Python310\\lib\\site-packages\\dataframe_image\\_matplotlib_table.py:237: UserWarning: Glyph 128276 (\\N{BELL}) missing from current font.\n",
      "  self.fig.savefig(buffer, bbox_inches=bbox)\n",
      "c:\\Users\\wferreira.MPAC\\AppData\\Local\\Programs\\Python\\Python310\\lib\\site-packages\\dataframe_image\\_matplotlib_table.py:237: UserWarning: Glyph 8419 (\\N{COMBINING ENCLOSING KEYCAP}) missing from current font.\n",
      "  self.fig.savefig(buffer, bbox_inches=bbox)\n"
     ]
    }
   ],
   "source": [
    "dfi.export(\n",
    "    only_norm.head(20),\n",
    "    \"table_afinn_norm.png\",\n",
    "    table_conversion=\"matplotlib\"\n",
    ")"
   ]
  },
  {
   "cell_type": "code",
   "execution_count": 40,
   "metadata": {},
   "outputs": [
    {
     "data": {
      "text/html": [
       "<div>\n",
       "<style scoped>\n",
       "    .dataframe tbody tr th:only-of-type {\n",
       "        vertical-align: middle;\n",
       "    }\n",
       "\n",
       "    .dataframe tbody tr th {\n",
       "        vertical-align: top;\n",
       "    }\n",
       "\n",
       "    .dataframe thead th {\n",
       "        text-align: right;\n",
       "    }\n",
       "</style>\n",
       "<table border=\"1\" class=\"dataframe\">\n",
       "  <thead>\n",
       "    <tr style=\"text-align: right;\">\n",
       "      <th></th>\n",
       "      <th>datetime</th>\n",
       "      <th>tweet_id</th>\n",
       "      <th>processed_text</th>\n",
       "      <th>text_lower</th>\n",
       "      <th>textblob_sentiment</th>\n",
       "      <th>vader_sentiment</th>\n",
       "      <th>afinn_sentiment</th>\n",
       "      <th>textblob_score</th>\n",
       "      <th>vader_score</th>\n",
       "      <th>afinn_score</th>\n",
       "    </tr>\n",
       "  </thead>\n",
       "  <tbody>\n",
       "    <tr>\n",
       "      <th>0</th>\n",
       "      <td>2021-10-01 00:12:02+00:00</td>\n",
       "      <td>1443730389986590720</td>\n",
       "      <td>✨ join thil sunday celebra...</td>\n",
       "      <td>✨join me this sunday to ce...</td>\n",
       "      <td>Positive</td>\n",
       "      <td>Positive</td>\n",
       "      <td>Positive</td>\n",
       "      <td>0.4375</td>\n",
       "      <td>0.8852</td>\n",
       "      <td>3.0</td>\n",
       "    </tr>\n",
       "    <tr>\n",
       "      <th>1</th>\n",
       "      <td>2021-10-01 00:13:00+00:00</td>\n",
       "      <td>1443730633360953344</td>\n",
       "      <td>@top7 @mxcfoundation @defi...</td>\n",
       "      <td>@top7ico @mxcfoundation @d...</td>\n",
       "      <td>Positive</td>\n",
       "      <td>Positive</td>\n",
       "      <td>Positive</td>\n",
       "      <td>1.0000</td>\n",
       "      <td>0.7249</td>\n",
       "      <td>3.0</td>\n",
       "    </tr>\n",
       "    <tr>\n",
       "      <th>2</th>\n",
       "      <td>2021-10-01 00:13:09+00:00</td>\n",
       "      <td>1443730669419446291</td>\n",
       "      <td>@metaspatial_i good projec...</td>\n",
       "      <td>@metaspatial_io good proje...</td>\n",
       "      <td>Positive</td>\n",
       "      <td>Positive</td>\n",
       "      <td>Positive</td>\n",
       "      <td>0.7000</td>\n",
       "      <td>0.4404</td>\n",
       "      <td>3.0</td>\n",
       "    </tr>\n",
       "    <tr>\n",
       "      <th>3</th>\n",
       "      <td>2021-10-01 00:13:18+00:00</td>\n",
       "      <td>1443730706409033728</td>\n",
       "      <td>@metaverse_yin tak hyp alp...</td>\n",
       "      <td>@metaverse_yin i just take...</td>\n",
       "      <td>Positive</td>\n",
       "      <td>Positive</td>\n",
       "      <td>Positive</td>\n",
       "      <td>0.8000</td>\n",
       "      <td>0.4215</td>\n",
       "      <td>3.0</td>\n",
       "    </tr>\n",
       "    <tr>\n",
       "      <th>4</th>\n",
       "      <td>2021-10-01 00:13:56+00:00</td>\n",
       "      <td>1443730867797565442</td>\n",
       "      <td>@metaverse_yin keep coming...</td>\n",
       "      <td>@metaverse_yin keep it com...</td>\n",
       "      <td>Neutral</td>\n",
       "      <td>Neutral</td>\n",
       "      <td>Neutral</td>\n",
       "      <td>0.0000</td>\n",
       "      <td>0.0000</td>\n",
       "      <td>0.0</td>\n",
       "    </tr>\n",
       "  </tbody>\n",
       "</table>\n",
       "</div>"
      ],
      "text/plain": [
       "                    datetime  \\\n",
       "0  2021-10-01 00:12:02+00:00   \n",
       "1  2021-10-01 00:13:00+00:00   \n",
       "2  2021-10-01 00:13:09+00:00   \n",
       "3  2021-10-01 00:13:18+00:00   \n",
       "4  2021-10-01 00:13:56+00:00   \n",
       "\n",
       "              tweet_id  \\\n",
       "0  1443730389986590720   \n",
       "1  1443730633360953344   \n",
       "2  1443730669419446291   \n",
       "3  1443730706409033728   \n",
       "4  1443730867797565442   \n",
       "\n",
       "                  processed_text  \\\n",
       "0  ✨ join thil sunday celebra...   \n",
       "1  @top7 @mxcfoundation @defi...   \n",
       "2  @metaspatial_i good projec...   \n",
       "3  @metaverse_yin tak hyp alp...   \n",
       "4  @metaverse_yin keep coming...   \n",
       "\n",
       "                      text_lower  \\\n",
       "0  ✨join me this sunday to ce...   \n",
       "1  @top7ico @mxcfoundation @d...   \n",
       "2  @metaspatial_io good proje...   \n",
       "3  @metaverse_yin i just take...   \n",
       "4  @metaverse_yin keep it com...   \n",
       "\n",
       "  textblob_sentiment  \\\n",
       "0           Positive   \n",
       "1           Positive   \n",
       "2           Positive   \n",
       "3           Positive   \n",
       "4            Neutral   \n",
       "\n",
       "  vader_sentiment  \\\n",
       "0        Positive   \n",
       "1        Positive   \n",
       "2        Positive   \n",
       "3        Positive   \n",
       "4         Neutral   \n",
       "\n",
       "  afinn_sentiment  \\\n",
       "0        Positive   \n",
       "1        Positive   \n",
       "2        Positive   \n",
       "3        Positive   \n",
       "4         Neutral   \n",
       "\n",
       "   textblob_score  \\\n",
       "0          0.4375   \n",
       "1          1.0000   \n",
       "2          0.7000   \n",
       "3          0.8000   \n",
       "4          0.0000   \n",
       "\n",
       "   vader_score  \\\n",
       "0       0.8852   \n",
       "1       0.7249   \n",
       "2       0.4404   \n",
       "3       0.4215   \n",
       "4       0.0000   \n",
       "\n",
       "   afinn_score  \n",
       "0          3.0  \n",
       "1          3.0  \n",
       "2          3.0  \n",
       "3          3.0  \n",
       "4          0.0  "
      ]
     },
     "execution_count": 40,
     "metadata": {},
     "output_type": "execute_result"
    }
   ],
   "source": [
    "df.head()"
   ]
  },
  {
   "cell_type": "code",
   "execution_count": null,
   "metadata": {},
   "outputs": [],
   "source": []
  }
 ],
 "metadata": {
  "interpreter": {
   "hash": "d54245c670ff253d1204420841bd04192ea0c38e456268d4f3a24d97e25d8999"
  },
  "kernelspec": {
   "display_name": "Python 3.10.4 64-bit",
   "language": "python",
   "name": "python3"
  },
  "language_info": {
   "codemirror_mode": {
    "name": "ipython",
    "version": 3
   },
   "file_extension": ".py",
   "mimetype": "text/x-python",
   "name": "python",
   "nbconvert_exporter": "python",
   "pygments_lexer": "ipython3",
   "version": "3.10.4"
  },
  "orig_nbformat": 4
 },
 "nbformat": 4,
 "nbformat_minor": 2
}
