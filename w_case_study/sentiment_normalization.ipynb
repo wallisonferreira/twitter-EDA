{
 "cells": [
  {
   "cell_type": "code",
   "execution_count": null,
   "metadata": {},
   "outputs": [],
   "source": [
    "import pandas as pd\n",
    "import seaborn as sns\n",
    "import matplotlib.pyplot as plt\n",
    "import nltk\n",
    "from afinn import Afinn\n",
    "afinn = Afinn(emoticons=True)"
   ]
  },
  {
   "cell_type": "code",
   "execution_count": null,
   "metadata": {},
   "outputs": [],
   "source": [
    "def getSentiment(text, lexicon):\n",
    "    score = lexicon.score(text)\n",
    "    if (score > 0):\n",
    "        return 'Positive'\n",
    "    if (score < 0):\n",
    "        return 'Negative'\n",
    "    if (score == 0):\n",
    "        return 'Neutral'"
   ]
  },
  {
   "cell_type": "code",
   "execution_count": null,
   "metadata": {},
   "outputs": [],
   "source": [
    "sentiment = pd.read_csv('sentiment.csv')"
   ]
  },
  {
   "cell_type": "code",
   "execution_count": null,
   "metadata": {},
   "outputs": [],
   "source": [
    "emoji = pd.read_csv('emoji_sentiment.csv')"
   ]
  },
  {
   "cell_type": "code",
   "execution_count": null,
   "metadata": {},
   "outputs": [],
   "source": [
    "emoji"
   ]
  },
  {
   "cell_type": "code",
   "execution_count": null,
   "metadata": {},
   "outputs": [],
   "source": [
    "getSentiment('😁', afinn)"
   ]
  },
  {
   "cell_type": "markdown",
   "metadata": {},
   "source": [
    "Link do emoji: http://kt.ijs.si/data/Emoji_sentiment_ranking/index.html"
   ]
  },
  {
   "cell_type": "code",
   "execution_count": null,
   "metadata": {},
   "outputs": [],
   "source": [
    "emoji.head()"
   ]
  },
  {
   "cell_type": "code",
   "execution_count": null,
   "metadata": {},
   "outputs": [],
   "source": [
    "set(emoji['Emoji']).intersection('@metaspatial_i good project go moon 🚀 🚀 🚀 @m')"
   ]
  },
  {
   "cell_type": "code",
   "execution_count": null,
   "metadata": {},
   "outputs": [],
   "source": [
    "text = '@metaspatial_i good project go moon 🚀 🚀 🚀 @m'"
   ]
  },
  {
   "cell_type": "code",
   "execution_count": null,
   "metadata": {},
   "outputs": [],
   "source": [
    "item = set(emoji['Emoji']).intersection(text)"
   ]
  },
  {
   "cell_type": "code",
   "execution_count": null,
   "metadata": {},
   "outputs": [],
   "source": [
    "list(item)"
   ]
  },
  {
   "cell_type": "code",
   "execution_count": null,
   "metadata": {},
   "outputs": [],
   "source": [
    "def replaceEmojiByName(tweet):\n",
    "    intersection = set(emoji['Emoji']).intersection(tweet)\n",
    "\n",
    "    listOfEmojis = list(intersection)\n",
    "\n",
    "    if (len(listOfEmojis) > 0):\n",
    "        for emoji_item in listOfEmojis:\n",
    "            tweet = tweet.replace(emoji_item, emoji[emoji['Emoji'] == emoji_item]['Unicode name'].item().lower())\n",
    "        return tweet\n",
    "    return tweet\n"
   ]
  },
  {
   "cell_type": "code",
   "execution_count": null,
   "metadata": {},
   "outputs": [],
   "source": [
    "replaceEmojiByName('@metaspatial_i good project go moon 🚀 🚀 🚀 @m')"
   ]
  },
  {
   "cell_type": "code",
   "execution_count": null,
   "metadata": {},
   "outputs": [],
   "source": [
    "emoji.head()"
   ]
  },
  {
   "cell_type": "code",
   "execution_count": null,
   "metadata": {},
   "outputs": [],
   "source": [
    "def tokenizeText(instancia):\n",
    "    '''\n",
    "    Recebe o texto e retorna uma lista de tokens.\n",
    "    '''\n",
    "    return nltk.tokenize.TweetTokenizer().tokenize(instancia)"
   ]
  },
  {
   "cell_type": "code",
   "execution_count": null,
   "metadata": {},
   "outputs": [],
   "source": [
    "sentiment['processed_text_emojiname'] = sentiment.apply(lambda row: replaceEmojiByName(row['processed_text']), axis=1)"
   ]
  },
  {
   "cell_type": "markdown",
   "metadata": {},
   "source": [
    "### Base de dados atualizada"
   ]
  },
  {
   "cell_type": "code",
   "execution_count": null,
   "metadata": {},
   "outputs": [],
   "source": [
    "sentiment.to_csv('sentiment_and_emojiname.csv')"
   ]
  },
  {
   "cell_type": "markdown",
   "metadata": {},
   "source": [
    "# Identifying number of each sentiments by month (for each particular lexicon)"
   ]
  },
  {
   "cell_type": "markdown",
   "metadata": {},
   "source": [
    "Presence of these terms\n",
    "\n",
    "Singular\n",
    "\n",
    "- metaverse is (139237)\n",
    "- what metaverse (2932)\n",
    "- is metaverse (31952)\n",
    "- what is metaverse (1794)\n",
    "- what metaverse is (884)\n",
    "\n",
    "Plural\n",
    "\n",
    "- metaverses are (604)\n",
    "- what metaverses (26)\n",
    "- are metaverses (58)\n",
    "- what are metaverses (0)\n",
    "- what metaverses are (9)"
   ]
  },
  {
   "cell_type": "code",
   "execution_count": null,
   "metadata": {},
   "outputs": [],
   "source": [
    "relatedTopics = 'metaverse is|what metaverse|is metaverse|what is metaverse|what metaverse is|metaverses are|what metaverses|are metaverses|what metaverses are'"
   ]
  },
  {
   "cell_type": "code",
   "execution_count": null,
   "metadata": {},
   "outputs": [],
   "source": [
    "sentiment.datetime = pd.to_datetime(sentiment.datetime)"
   ]
  },
  {
   "cell_type": "code",
   "execution_count": null,
   "metadata": {},
   "outputs": [],
   "source": [
    "sentiment[sentiment['text_lower'].str.contains('how metaverse', regex=True)]['text_lower'][43320]"
   ]
  },
  {
   "cell_type": "markdown",
   "metadata": {},
   "source": [
    "### Textblob sentiment by month (related)"
   ]
  },
  {
   "cell_type": "code",
   "execution_count": null,
   "metadata": {},
   "outputs": [],
   "source": [
    "text_blob_sentiment_related = sentiment[sentiment['text_lower'].str.contains(relatedTopics, regex=True)].set_index('datetime').groupby('textblob_sentiment')['text_lower'].resample('M').count()\n",
    "text_blob_sentiment_related.to_csv('textblob_sentiment_related.csv')"
   ]
  },
  {
   "cell_type": "code",
   "execution_count": null,
   "metadata": {},
   "outputs": [],
   "source": [
    "sentiment['month'] = sentiment.datetime.dt.month"
   ]
  },
  {
   "cell_type": "code",
   "execution_count": null,
   "metadata": {},
   "outputs": [],
   "source": [
    "sentiment.set_index('datetime').groupby('textblob_sentiment')['text_lower'].resample('M').count()"
   ]
  },
  {
   "cell_type": "code",
   "execution_count": null,
   "metadata": {},
   "outputs": [],
   "source": [
    "sns.catplot(x='text_lower', hue=\"textblob_sentiment\", kind=\"count\",\n",
    "            palette=\"pastel\", edgecolor=\".6\",\n",
    "            data=sentiment)"
   ]
  },
  {
   "cell_type": "code",
   "execution_count": null,
   "metadata": {},
   "outputs": [],
   "source": [
    "sentiment."
   ]
  },
  {
   "cell_type": "markdown",
   "metadata": {},
   "source": [
    "### Vader sentiment by month (related)"
   ]
  },
  {
   "cell_type": "code",
   "execution_count": null,
   "metadata": {},
   "outputs": [],
   "source": [
    "vader_sentiment_related = sentiment[sentiment['text_lower'].str.contains(relatedTopics, regex=True)].set_index('datetime').groupby('vader_sentiment')['text_lower'].resample('M').count()\n",
    "vader_sentiment_related.to_csv('vader_sentiment_related.csv')"
   ]
  },
  {
   "cell_type": "markdown",
   "metadata": {},
   "source": [
    "### Afinn sentiment by month (related)"
   ]
  },
  {
   "cell_type": "code",
   "execution_count": null,
   "metadata": {},
   "outputs": [],
   "source": [
    "afinn_sentiment_related = sentiment[sentiment['text_lower'].str.contains(relatedTopics, regex=True)].set_index('datetime').groupby('afinn_sentiment')['text_lower'].resample('M').count()\n",
    "afinn_sentiment_related.to_csv('afinn_sentiment_related.csv')"
   ]
  },
  {
   "cell_type": "code",
   "execution_count": null,
   "metadata": {},
   "outputs": [],
   "source": [
    "sentiment.to_csv('sentiment.csv', index=False)"
   ]
  },
  {
   "cell_type": "code",
   "execution_count": null,
   "metadata": {},
   "outputs": [],
   "source": []
  },
  {
   "cell_type": "code",
   "execution_count": null,
   "metadata": {},
   "outputs": [],
   "source": [
    "afinn_sentiment_related = sentiment[sentiment['text_lower'].str.contains(relatedTopics, regex=True)].set_index('datetime').groupby('afinn_sentiment')['text_lower'].resample('M').count()\n"
   ]
  },
  {
   "cell_type": "code",
   "execution_count": null,
   "metadata": {},
   "outputs": [],
   "source": [
    "import matplotlib.pyplot as plt"
   ]
  },
  {
   "cell_type": "code",
   "execution_count": null,
   "metadata": {},
   "outputs": [],
   "source": [
    "afinn_sentiment_related.unstack(level=0)"
   ]
  },
  {
   "cell_type": "code",
   "execution_count": null,
   "metadata": {},
   "outputs": [],
   "source": [
    "sentiment['month'] = sentiment.datetime.dt.month"
   ]
  },
  {
   "cell_type": "code",
   "execution_count": null,
   "metadata": {},
   "outputs": [],
   "source": [
    "sentiment.head()"
   ]
  },
  {
   "cell_type": "code",
   "execution_count": null,
   "metadata": {},
   "outputs": [],
   "source": [
    "afinn_sentiment_related.unstack(level=0).plot(kind='bar', subplots=True, rot=0, figsize=(20, 10), layout=(2, 3))\n",
    "plt.tight_layout()"
   ]
  },
  {
   "cell_type": "code",
   "execution_count": null,
   "metadata": {},
   "outputs": [],
   "source": []
  }
 ],
 "metadata": {
  "interpreter": {
   "hash": "d54245c670ff253d1204420841bd04192ea0c38e456268d4f3a24d97e25d8999"
  },
  "kernelspec": {
   "display_name": "Python 3.10.4 64-bit",
   "language": "python",
   "name": "python3"
  },
  "language_info": {
   "codemirror_mode": {
    "name": "ipython",
    "version": 3
   },
   "file_extension": ".py",
   "mimetype": "text/x-python",
   "name": "python",
   "nbconvert_exporter": "python",
   "pygments_lexer": "ipython3",
   "version": "3.10.4"
  },
  "orig_nbformat": 4
 },
 "nbformat": 4,
 "nbformat_minor": 2
}
