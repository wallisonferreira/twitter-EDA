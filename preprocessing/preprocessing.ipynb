{
 "cells": [
  {
   "cell_type": "markdown",
   "metadata": {},
   "source": [
    "# EDA - October"
   ]
  },
  {
   "cell_type": "markdown",
   "metadata": {},
   "source": [
    "### Work Related:\n",
    "\n",
    "\"In the last case (after deduplication), there are 67,024 rows and 1 column in the first \n",
    "dataset (2021-10-21 and 2021-10-28). The second dataset (2021-10-28 and 2021-11-04) has 262,561 rows and 1 column.\"\n",
    "\n",
    "First one covers one week before 28/10, while the other one cover 28/10 inclusive one week ahead.\n",
    "\n",
    "Total: 329.585\n",
    "\n",
    "Agrah, O. Aydin, O. Tweet Classification and Sentiment Analysis on \n",
    "Metaverse Related Messages (2021). Journal of Metaverse, 2021. v. 1, p. 25-30."
   ]
  },
  {
   "cell_type": "code",
   "execution_count": 1,
   "metadata": {},
   "outputs": [],
   "source": [
    "import pandas as pd\n",
    "import glob"
   ]
  },
  {
   "cell_type": "code",
   "execution_count": 3,
   "metadata": {},
   "outputs": [],
   "source": [
    "cols=[\n",
    "    'datetime',\n",
    "    'tweet_id',\n",
    "    'text',\n",
    "    'language',\n",
    "    'like_count',\n",
    "    'rt_count',\n",
    "    'reply_to',\n",
    "    'retweeted',\n",
    "    'user_id',\n",
    "    'username',\n",
    "    'user_followers',\n",
    "    'user_fav_count',\n",
    "    'is_verified',\n",
    "    'created_at'\n",
    "]"
   ]
  },
  {
   "cell_type": "code",
   "execution_count": null,
   "metadata": {},
   "outputs": [],
   "source": [
    "# df = pd.DataFrame(columns=cols)\n",
    "# frame = pd.DataFrame(columns=cols)"
   ]
  },
  {
   "cell_type": "code",
   "execution_count": null,
   "metadata": {},
   "outputs": [],
   "source": [
    "path = r\"C:\\Users\\wferreira.MPAC\\OneDrive\\TCC II - Metaverso - Este Sim Agora Vai\\workspace\\twitter-EDA\\tweets_data_for_EDA\"\n",
    "all_files = glob.glob(os.path.join(path , \"*.csv\"))\n",
    "\n",
    "li = []\n",
    "\n",
    "for filename in all_files:\n",
    "    df = pd.read_csv(filename, names=cols, on_bad_lines='skip')\n",
    "    li.append(df)\n",
    "\n",
    "frame = pd.concat(li)"
   ]
  },
  {
   "cell_type": "code",
   "execution_count": null,
   "metadata": {},
   "outputs": [],
   "source": [
    "df = frame"
   ]
  },
  {
   "cell_type": "code",
   "execution_count": null,
   "metadata": {},
   "outputs": [],
   "source": [
    "df.info()"
   ]
  },
  {
   "cell_type": "code",
   "execution_count": null,
   "metadata": {},
   "outputs": [],
   "source": [
    "#df = pd.read_csv(r\"C:\\Users\\wferreira.MPAC\\OneDrive\\TCC II - Metaverso - Este Sim Agora Vai\\workspace\\twitter-EDA\\tweets_data_for_EDA\\*.csv\", names=cols)"
   ]
  },
  {
   "cell_type": "markdown",
   "metadata": {},
   "source": [
    "##### Preprocessing"
   ]
  },
  {
   "cell_type": "code",
   "execution_count": null,
   "metadata": {},
   "outputs": [],
   "source": [
    "# Check number of duplicates by id and text\n",
    "id_duplicates = df.drop(labels=[\"tweet_id\"], axis=1).duplicated().sum()\n",
    "text_duplicates = df.drop(labels=[\"text\"], axis=1).duplicated().sum()\n",
    "\n",
    "print(f\"You seem to have {id_duplicates} duplicates tweet_id in your database.\\n \\\n",
    "You seem to have {text_duplicates} duplicates text in your database.\")"
   ]
  },
  {
   "cell_type": "code",
   "execution_count": null,
   "metadata": {},
   "outputs": [],
   "source": [
    "# Drop all duplicated rows\n",
    "df.drop_duplicates(\"tweet_id\", inplace=True)\n",
    "df.drop_duplicates(\"text\", inplace=True)\n",
    "df.shape"
   ]
  },
  {
   "cell_type": "code",
   "execution_count": null,
   "metadata": {},
   "outputs": [],
   "source": [
    "# ordering data\n",
    "df['datetime'] = pd.to_datetime(df['datetime'])\n",
    "df = df.sort_values(by=\"datetime\")\n",
    "df.head()"
   ]
  },
  {
   "cell_type": "code",
   "execution_count": null,
   "metadata": {},
   "outputs": [],
   "source": [
    "df[['datetime','text']].head()"
   ]
  },
  {
   "cell_type": "code",
   "execution_count": null,
   "metadata": {},
   "outputs": [],
   "source": [
    "# transform text in unicode escape to unicode\n",
    "df['text'] = df.apply(lambda row: eval(row['text']).decode('utf-8'), axis=1)\n",
    "df[['datetime','text']].head()"
   ]
  },
  {
   "cell_type": "code",
   "execution_count": 4,
   "metadata": {},
   "outputs": [],
   "source": [
    "# save pre_processed file\n",
    "#df.to_csv(r\"C:\\Users\\wferreira.MPAC\\OneDrive\\TCC II - Metaverso - Este Sim Agora Vai\\workspace\\twitter-EDA\\tweets_preprocessing\\tweets_preprocessed.csv\")\n",
    "#df = pd.read_csv(r\"C:\\\\Users\\\\wferreira.MPAC\\\\OneDrive\\\\TCC II - Metaverso - Este Sim Agora Vai\\\\workspace\\\\twitter-EDA\\\\tweets_preprocessing\\\\tweets_preprocessed_english.csv\")\n",
    "df = pd.read_csv(r\"C:\\\\Users\\\\wferreira.MPAC\\\\OneDrive\\\\TCC II - Metaverso - Este Sim Agora Vai\\\\workspace\\\\twitter-EDA\\\\tweets_preprocessing\\\\tweets_preprocessed.csv\")"
   ]
  },
  {
   "cell_type": "code",
   "execution_count": 5,
   "metadata": {},
   "outputs": [],
   "source": [
    "df = df[['datetime', 'tweet_id', 'text',\n",
    "       'language', 'like_count', 'rt_count', 'reply_to', 'retweeted',\n",
    "       'user_id', 'username', 'user_followers', 'user_fav_count',\n",
    "       'is_verified', 'created_at']]"
   ]
  },
  {
   "cell_type": "code",
   "execution_count": 6,
   "metadata": {},
   "outputs": [
    {
     "data": {
      "text/html": [
       "<div>\n",
       "<style scoped>\n",
       "    .dataframe tbody tr th:only-of-type {\n",
       "        vertical-align: middle;\n",
       "    }\n",
       "\n",
       "    .dataframe tbody tr th {\n",
       "        vertical-align: top;\n",
       "    }\n",
       "\n",
       "    .dataframe thead th {\n",
       "        text-align: right;\n",
       "    }\n",
       "</style>\n",
       "<table border=\"1\" class=\"dataframe\">\n",
       "  <thead>\n",
       "    <tr style=\"text-align: right;\">\n",
       "      <th></th>\n",
       "      <th>datetime</th>\n",
       "      <th>tweet_id</th>\n",
       "      <th>text</th>\n",
       "      <th>language</th>\n",
       "      <th>like_count</th>\n",
       "      <th>rt_count</th>\n",
       "      <th>reply_to</th>\n",
       "      <th>retweeted</th>\n",
       "      <th>user_id</th>\n",
       "      <th>username</th>\n",
       "      <th>user_followers</th>\n",
       "      <th>user_fav_count</th>\n",
       "      <th>is_verified</th>\n",
       "      <th>created_at</th>\n",
       "    </tr>\n",
       "  </thead>\n",
       "  <tbody>\n",
       "    <tr>\n",
       "      <th>0</th>\n",
       "      <td>2021-10-01 00:12:02+00:00</td>\n",
       "      <td>1443730389986590720</td>\n",
       "      <td>✨Join me this Sunday to celebrate 6 months sin...</td>\n",
       "      <td>en</td>\n",
       "      <td>17</td>\n",
       "      <td>8</td>\n",
       "      <td>NaN</td>\n",
       "      <td>NaN</td>\n",
       "      <td>358455054</td>\n",
       "      <td>BoxheadTweets</td>\n",
       "      <td>3724</td>\n",
       "      <td>13569</td>\n",
       "      <td>False</td>\n",
       "      <td>2011-08-19 23:28:07+00:00</td>\n",
       "    </tr>\n",
       "    <tr>\n",
       "      <th>1</th>\n",
       "      <td>2021-10-01 00:13:00+00:00</td>\n",
       "      <td>1443730633360953344</td>\n",
       "      <td>@top7ico @MXCfoundation @DeFinePlatform @YOPfi...</td>\n",
       "      <td>en</td>\n",
       "      <td>0</td>\n",
       "      <td>0</td>\n",
       "      <td>https://twitter.com/top7ico</td>\n",
       "      <td>NaN</td>\n",
       "      <td>2587108380</td>\n",
       "      <td>deenguyen0102</td>\n",
       "      <td>13</td>\n",
       "      <td>613</td>\n",
       "      <td>False</td>\n",
       "      <td>2014-06-25 08:29:47+00:00</td>\n",
       "    </tr>\n",
       "    <tr>\n",
       "      <th>2</th>\n",
       "      <td>2021-10-01 00:13:09+00:00</td>\n",
       "      <td>1443730669419446291</td>\n",
       "      <td>@MetaSpatial_io Good project go to the moon 🚀🚀...</td>\n",
       "      <td>en</td>\n",
       "      <td>1</td>\n",
       "      <td>0</td>\n",
       "      <td>https://twitter.com/MetaSpatial_io</td>\n",
       "      <td>NaN</td>\n",
       "      <td>1400522316686106624</td>\n",
       "      <td>alucard_aluca</td>\n",
       "      <td>12</td>\n",
       "      <td>366</td>\n",
       "      <td>False</td>\n",
       "      <td>2021-06-03 18:38:50+00:00</td>\n",
       "    </tr>\n",
       "    <tr>\n",
       "      <th>3</th>\n",
       "      <td>2021-10-01 00:13:18+00:00</td>\n",
       "      <td>1443730706409033728</td>\n",
       "      <td>@Metaverse_Yin I just take the hype as alpha lol</td>\n",
       "      <td>en</td>\n",
       "      <td>3</td>\n",
       "      <td>0</td>\n",
       "      <td>https://twitter.com/Metaverse_Yin</td>\n",
       "      <td>NaN</td>\n",
       "      <td>1350207215131525121</td>\n",
       "      <td>Paperhands41</td>\n",
       "      <td>868</td>\n",
       "      <td>3463</td>\n",
       "      <td>False</td>\n",
       "      <td>2021-01-15 22:24:29+00:00</td>\n",
       "    </tr>\n",
       "    <tr>\n",
       "      <th>4</th>\n",
       "      <td>2021-10-01 00:13:56+00:00</td>\n",
       "      <td>1443730867797565442</td>\n",
       "      <td>@Metaverse_Yin Keep it coming ! Lmao</td>\n",
       "      <td>en</td>\n",
       "      <td>4</td>\n",
       "      <td>0</td>\n",
       "      <td>https://twitter.com/Metaverse_Yin</td>\n",
       "      <td>NaN</td>\n",
       "      <td>1096134862484983808</td>\n",
       "      <td>BigLouGutter</td>\n",
       "      <td>4701</td>\n",
       "      <td>46924</td>\n",
       "      <td>False</td>\n",
       "      <td>2019-02-14 19:51:31+00:00</td>\n",
       "    </tr>\n",
       "  </tbody>\n",
       "</table>\n",
       "</div>"
      ],
      "text/plain": [
       "                    datetime             tweet_id  \\\n",
       "0  2021-10-01 00:12:02+00:00  1443730389986590720   \n",
       "1  2021-10-01 00:13:00+00:00  1443730633360953344   \n",
       "2  2021-10-01 00:13:09+00:00  1443730669419446291   \n",
       "3  2021-10-01 00:13:18+00:00  1443730706409033728   \n",
       "4  2021-10-01 00:13:56+00:00  1443730867797565442   \n",
       "\n",
       "                                                text language  like_count  \\\n",
       "0  ✨Join me this Sunday to celebrate 6 months sin...       en          17   \n",
       "1  @top7ico @MXCfoundation @DeFinePlatform @YOPfi...       en           0   \n",
       "2  @MetaSpatial_io Good project go to the moon 🚀🚀...       en           1   \n",
       "3   @Metaverse_Yin I just take the hype as alpha lol       en           3   \n",
       "4               @Metaverse_Yin Keep it coming ! Lmao       en           4   \n",
       "\n",
       "   rt_count                            reply_to  retweeted  \\\n",
       "0         8                                 NaN        NaN   \n",
       "1         0         https://twitter.com/top7ico        NaN   \n",
       "2         0  https://twitter.com/MetaSpatial_io        NaN   \n",
       "3         0   https://twitter.com/Metaverse_Yin        NaN   \n",
       "4         0   https://twitter.com/Metaverse_Yin        NaN   \n",
       "\n",
       "               user_id       username  user_followers  user_fav_count  \\\n",
       "0            358455054  BoxheadTweets            3724           13569   \n",
       "1           2587108380  deenguyen0102              13             613   \n",
       "2  1400522316686106624  alucard_aluca              12             366   \n",
       "3  1350207215131525121   Paperhands41             868            3463   \n",
       "4  1096134862484983808   BigLouGutter            4701           46924   \n",
       "\n",
       "   is_verified                 created_at  \n",
       "0        False  2011-08-19 23:28:07+00:00  \n",
       "1        False  2014-06-25 08:29:47+00:00  \n",
       "2        False  2021-06-03 18:38:50+00:00  \n",
       "3        False  2021-01-15 22:24:29+00:00  \n",
       "4        False  2019-02-14 19:51:31+00:00  "
      ]
     },
     "execution_count": 6,
     "metadata": {},
     "output_type": "execute_result"
    }
   ],
   "source": [
    "df.head()"
   ]
  },
  {
   "cell_type": "code",
   "execution_count": 7,
   "metadata": {},
   "outputs": [
    {
     "data": {
      "text/plain": [
       "Index(['datetime', 'tweet_id', 'text', 'language', 'like_count', 'rt_count',\n",
       "       'reply_to', 'retweeted', 'user_id', 'username', 'user_followers',\n",
       "       'user_fav_count', 'is_verified', 'created_at'],\n",
       "      dtype='object')"
      ]
     },
     "execution_count": 7,
     "metadata": {},
     "output_type": "execute_result"
    }
   ],
   "source": [
    "df.columns"
   ]
  },
  {
   "cell_type": "code",
   "execution_count": 8,
   "metadata": {},
   "outputs": [
    {
     "data": {
      "text/plain": [
       "object     6\n",
       "int64      6\n",
       "float64    1\n",
       "bool       1\n",
       "dtype: int64"
      ]
     },
     "execution_count": 8,
     "metadata": {},
     "output_type": "execute_result"
    }
   ],
   "source": [
    "pd.value_counts(df.dtypes)"
   ]
  },
  {
   "cell_type": "markdown",
   "metadata": {},
   "source": [
    "### Structure of non-numerical features"
   ]
  },
  {
   "cell_type": "code",
   "execution_count": null,
   "metadata": {},
   "outputs": [],
   "source": [
    "df.describe(exclude=\"number\", datetime_is_numeric=True)"
   ]
  },
  {
   "cell_type": "code",
   "execution_count": null,
   "metadata": {},
   "outputs": [],
   "source": [
    "# How much of these data is in english lang\n",
    "df[df['language'] == 'en'].count()"
   ]
  },
  {
   "cell_type": "markdown",
   "metadata": {},
   "source": [
    "### Structure of numerical features"
   ]
  },
  {
   "cell_type": "code",
   "execution_count": null,
   "metadata": {},
   "outputs": [],
   "source": [
    "unique_values = df.select_dtypes(include=\"number\").nunique().sort_values()\n",
    "\n",
    "unique_values.plot.bar(logy=True, figsize=(15, 4), title=\"Unique values per feature\");"
   ]
  },
  {
   "cell_type": "markdown",
   "metadata": {},
   "source": [
    "### Missing values"
   ]
  },
  {
   "cell_type": "code",
   "execution_count": 46,
   "metadata": {},
   "outputs": [
    {
     "data": {
      "image/png": "[encoded data removed]",
      "text/plain": [
       "<Figure size 1500x1000 with 1 Axes>"
      ]
     },
     "metadata": {},
     "output_type": "display_data"
    }
   ],
   "source": [
    "import matplotlib.pyplot as plt\n",
    "plt.figure(figsize=(15, 10))\n",
    "plt.imshow(df.isna(), aspect=\"auto\", interpolation=\"nearest\", cmap=\"gray\")\n",
    "plt.xlabel(\"Column Number\")\n",
    "plt.ylabel(\"Sample Number\")\n",
    "plt.plot(color='#1d405d')\n",
    "plt.savefig(\"figure.eps\")\n",
    "plt.show()\n",
    "\n",
    "# kind='barh', \n",
    "# figsize=(5,5), \n",
    "# xlabel='Language', \n",
    "# ylabel='Number of tweets',\n",
    "# edgecolor='#333F4B',\n",
    "# linewidth=0.8,\n",
    "# color='#1d405d'"
   ]
  },
  {
   "cell_type": "markdown",
   "metadata": {},
   "source": [
    "Por que foram usados essas ferramentas"
   ]
  },
  {
   "cell_type": "code",
   "execution_count": 45,
   "metadata": {},
   "outputs": [
    {
     "data": {
      "image/png": "[encoded data removed]",
      "text/plain": [
       "<Figure size 2500x1000 with 2 Axes>"
      ]
     },
     "metadata": {},
     "output_type": "display_data"
    }
   ],
   "source": [
    "import missingno as msno\n",
    "\n",
    "msno.matrix(df, labels=True, sort=\"descending\");"
   ]
  },
  {
   "cell_type": "markdown",
   "metadata": {},
   "source": [
    "### Missing values per feature"
   ]
  },
  {
   "cell_type": "code",
   "execution_count": 40,
   "metadata": {},
   "outputs": [
    {
     "data": {
      "image/png": "[encoded data removed]",
      "text/plain": [
       "<Figure size 720x360 with 1 Axes>"
      ]
     },
     "metadata": {
      "needs_background": "light"
     },
     "output_type": "display_data"
    }
   ],
   "source": [
    "#identify the ratio of missing values per feature.\n",
    "df.isna().mean().sort_values().plot(\n",
    "    kind=\"bar\", figsize=(10, 5),\n",
    "    title=\"Percentage of missing values per feature\",\n",
    "    ylabel=\"Ratio of missing values per feature\",\n",
    "    edgecolor='#333F4B',\n",
    "    linewidth=0.8,\n",
    "    color='#1d405d');"
   ]
  },
  {
   "cell_type": "code",
   "execution_count": null,
   "metadata": {},
   "outputs": [],
   "source": [
    "df.plot(x='like_count', y='user_followers', kind='scatter', figsize=(25,10));"
   ]
  },
  {
   "cell_type": "code",
   "execution_count": null,
   "metadata": {},
   "outputs": [],
   "source": [
    "df['tweet_id'].groupby(df['datetime'].dt.to_period('D')).count().plot(kind='bar', figsize=(25,10));"
   ]
  },
  {
   "cell_type": "markdown",
   "metadata": {},
   "source": [
    "### Features Analysis"
   ]
  },
  {
   "cell_type": "code",
   "execution_count": null,
   "metadata": {},
   "outputs": [],
   "source": [
    "df['tweet_id'].groupby(df['language']).count().plot(kind='bar', figsize=(15,10));"
   ]
  },
  {
   "cell_type": "code",
   "execution_count": 47,
   "metadata": {},
   "outputs": [
    {
     "data": {
      "text/html": [
       "<div>\n",
       "<style scoped>\n",
       "    .dataframe tbody tr th:only-of-type {\n",
       "        vertical-align: middle;\n",
       "    }\n",
       "\n",
       "    .dataframe tbody tr th {\n",
       "        vertical-align: top;\n",
       "    }\n",
       "\n",
       "    .dataframe thead th {\n",
       "        text-align: right;\n",
       "    }\n",
       "</style>\n",
       "<table border=\"1\" class=\"dataframe\">\n",
       "  <thead>\n",
       "    <tr style=\"text-align: right;\">\n",
       "      <th></th>\n",
       "      <th>datetime</th>\n",
       "      <th>tweet_id</th>\n",
       "      <th>text</th>\n",
       "      <th>language</th>\n",
       "      <th>like_count</th>\n",
       "      <th>rt_count</th>\n",
       "      <th>reply_to</th>\n",
       "      <th>retweeted</th>\n",
       "      <th>user_id</th>\n",
       "      <th>username</th>\n",
       "      <th>user_followers</th>\n",
       "      <th>user_fav_count</th>\n",
       "      <th>is_verified</th>\n",
       "      <th>created_at</th>\n",
       "    </tr>\n",
       "  </thead>\n",
       "  <tbody>\n",
       "    <tr>\n",
       "      <th>0</th>\n",
       "      <td>2021-10-01 00:12:02+00:00</td>\n",
       "      <td>1443730389986590720</td>\n",
       "      <td>✨Join me this Sunday to celebrate 6 months sin...</td>\n",
       "      <td>en</td>\n",
       "      <td>17</td>\n",
       "      <td>8</td>\n",
       "      <td>NaN</td>\n",
       "      <td>NaN</td>\n",
       "      <td>358455054</td>\n",
       "      <td>BoxheadTweets</td>\n",
       "      <td>3724</td>\n",
       "      <td>13569</td>\n",
       "      <td>False</td>\n",
       "      <td>2011-08-19 23:28:07+00:00</td>\n",
       "    </tr>\n",
       "    <tr>\n",
       "      <th>1</th>\n",
       "      <td>2021-10-01 00:13:00+00:00</td>\n",
       "      <td>1443730633360953344</td>\n",
       "      <td>@top7ico @MXCfoundation @DeFinePlatform @YOPfi...</td>\n",
       "      <td>en</td>\n",
       "      <td>0</td>\n",
       "      <td>0</td>\n",
       "      <td>https://twitter.com/top7ico</td>\n",
       "      <td>NaN</td>\n",
       "      <td>2587108380</td>\n",
       "      <td>deenguyen0102</td>\n",
       "      <td>13</td>\n",
       "      <td>613</td>\n",
       "      <td>False</td>\n",
       "      <td>2014-06-25 08:29:47+00:00</td>\n",
       "    </tr>\n",
       "    <tr>\n",
       "      <th>2</th>\n",
       "      <td>2021-10-01 00:13:09+00:00</td>\n",
       "      <td>1443730669419446291</td>\n",
       "      <td>@MetaSpatial_io Good project go to the moon 🚀🚀...</td>\n",
       "      <td>en</td>\n",
       "      <td>1</td>\n",
       "      <td>0</td>\n",
       "      <td>https://twitter.com/MetaSpatial_io</td>\n",
       "      <td>NaN</td>\n",
       "      <td>1400522316686106624</td>\n",
       "      <td>alucard_aluca</td>\n",
       "      <td>12</td>\n",
       "      <td>366</td>\n",
       "      <td>False</td>\n",
       "      <td>2021-06-03 18:38:50+00:00</td>\n",
       "    </tr>\n",
       "    <tr>\n",
       "      <th>3</th>\n",
       "      <td>2021-10-01 00:13:18+00:00</td>\n",
       "      <td>1443730706409033728</td>\n",
       "      <td>@Metaverse_Yin I just take the hype as alpha lol</td>\n",
       "      <td>en</td>\n",
       "      <td>3</td>\n",
       "      <td>0</td>\n",
       "      <td>https://twitter.com/Metaverse_Yin</td>\n",
       "      <td>NaN</td>\n",
       "      <td>1350207215131525121</td>\n",
       "      <td>Paperhands41</td>\n",
       "      <td>868</td>\n",
       "      <td>3463</td>\n",
       "      <td>False</td>\n",
       "      <td>2021-01-15 22:24:29+00:00</td>\n",
       "    </tr>\n",
       "    <tr>\n",
       "      <th>4</th>\n",
       "      <td>2021-10-01 00:13:56+00:00</td>\n",
       "      <td>1443730867797565442</td>\n",
       "      <td>@Metaverse_Yin Keep it coming ! Lmao</td>\n",
       "      <td>en</td>\n",
       "      <td>4</td>\n",
       "      <td>0</td>\n",
       "      <td>https://twitter.com/Metaverse_Yin</td>\n",
       "      <td>NaN</td>\n",
       "      <td>1096134862484983808</td>\n",
       "      <td>BigLouGutter</td>\n",
       "      <td>4701</td>\n",
       "      <td>46924</td>\n",
       "      <td>False</td>\n",
       "      <td>2019-02-14 19:51:31+00:00</td>\n",
       "    </tr>\n",
       "    <tr>\n",
       "      <th>...</th>\n",
       "      <td>...</td>\n",
       "      <td>...</td>\n",
       "      <td>...</td>\n",
       "      <td>...</td>\n",
       "      <td>...</td>\n",
       "      <td>...</td>\n",
       "      <td>...</td>\n",
       "      <td>...</td>\n",
       "      <td>...</td>\n",
       "      <td>...</td>\n",
       "      <td>...</td>\n",
       "      <td>...</td>\n",
       "      <td>...</td>\n",
       "      <td>...</td>\n",
       "    </tr>\n",
       "    <tr>\n",
       "      <th>3667770</th>\n",
       "      <td>2022-04-26 21:33:59+00:00</td>\n",
       "      <td>1519067288191782913</td>\n",
       "      <td>🚨 Road to 500 followers 🚨\\n\\nATTN CHECK PINNED...</td>\n",
       "      <td>en</td>\n",
       "      <td>0</td>\n",
       "      <td>0</td>\n",
       "      <td>NaN</td>\n",
       "      <td>NaN</td>\n",
       "      <td>1444206517461323783</td>\n",
       "      <td>PirateSheckles</td>\n",
       "      <td>347</td>\n",
       "      <td>3034</td>\n",
       "      <td>False</td>\n",
       "      <td>2021-10-02 07:44:29+00:00</td>\n",
       "    </tr>\n",
       "    <tr>\n",
       "      <th>3667771</th>\n",
       "      <td>2022-04-26 21:33:59+00:00</td>\n",
       "      <td>1519067289227870211</td>\n",
       "      <td>From the latest in edge, quantum, 5G, IoT, and...</td>\n",
       "      <td>en</td>\n",
       "      <td>0</td>\n",
       "      <td>0</td>\n",
       "      <td>NaN</td>\n",
       "      <td>NaN</td>\n",
       "      <td>513817591</td>\n",
       "      <td>ExpertsRock</td>\n",
       "      <td>1540</td>\n",
       "      <td>35884</td>\n",
       "      <td>False</td>\n",
       "      <td>2012-03-04 01:42:47+00:00</td>\n",
       "    </tr>\n",
       "    <tr>\n",
       "      <th>3667772</th>\n",
       "      <td>2022-04-26 21:34:00+00:00</td>\n",
       "      <td>1519067294135070721</td>\n",
       "      <td>Architectural Designs as NFTs in the Real Worl...</td>\n",
       "      <td>en</td>\n",
       "      <td>0</td>\n",
       "      <td>0</td>\n",
       "      <td>NaN</td>\n",
       "      <td>NaN</td>\n",
       "      <td>1468164097355264002</td>\n",
       "      <td>group_kq</td>\n",
       "      <td>15</td>\n",
       "      <td>1</td>\n",
       "      <td>False</td>\n",
       "      <td>2021-12-07 10:22:58+00:00</td>\n",
       "    </tr>\n",
       "    <tr>\n",
       "      <th>3667773</th>\n",
       "      <td>2022-04-26 21:34:01+00:00</td>\n",
       "      <td>1519067296890822656</td>\n",
       "      <td>@Mazyukin_ @opensea This NFT project is revolu...</td>\n",
       "      <td>en</td>\n",
       "      <td>0</td>\n",
       "      <td>0</td>\n",
       "      <td>https://twitter.com/Mazyukin_</td>\n",
       "      <td>NaN</td>\n",
       "      <td>1513945041324195843</td>\n",
       "      <td>OpenseaMonkey</td>\n",
       "      <td>29</td>\n",
       "      <td>30</td>\n",
       "      <td>False</td>\n",
       "      <td>2022-04-12 18:20:08+00:00</td>\n",
       "    </tr>\n",
       "    <tr>\n",
       "      <th>3667774</th>\n",
       "      <td>2022-04-26 21:34:02+00:00</td>\n",
       "      <td>1519067302939004930</td>\n",
       "      <td>@BeastyBrudda @cryptobeaker Agree, They have d...</td>\n",
       "      <td>en</td>\n",
       "      <td>0</td>\n",
       "      <td>0</td>\n",
       "      <td>https://twitter.com/BeastyBrudda</td>\n",
       "      <td>NaN</td>\n",
       "      <td>802898471544090624</td>\n",
       "      <td>GutterBTC</td>\n",
       "      <td>5064</td>\n",
       "      <td>51534</td>\n",
       "      <td>False</td>\n",
       "      <td>2016-11-27 15:34:47+00:00</td>\n",
       "    </tr>\n",
       "  </tbody>\n",
       "</table>\n",
       "<p>3667775 rows × 14 columns</p>\n",
       "</div>"
      ],
      "text/plain": [
       "                          datetime             tweet_id  \\\n",
       "0        2021-10-01 00:12:02+00:00  1443730389986590720   \n",
       "1        2021-10-01 00:13:00+00:00  1443730633360953344   \n",
       "2        2021-10-01 00:13:09+00:00  1443730669419446291   \n",
       "3        2021-10-01 00:13:18+00:00  1443730706409033728   \n",
       "4        2021-10-01 00:13:56+00:00  1443730867797565442   \n",
       "...                            ...                  ...   \n",
       "3667770  2022-04-26 21:33:59+00:00  1519067288191782913   \n",
       "3667771  2022-04-26 21:33:59+00:00  1519067289227870211   \n",
       "3667772  2022-04-26 21:34:00+00:00  1519067294135070721   \n",
       "3667773  2022-04-26 21:34:01+00:00  1519067296890822656   \n",
       "3667774  2022-04-26 21:34:02+00:00  1519067302939004930   \n",
       "\n",
       "                                                      text language  \\\n",
       "0        ✨Join me this Sunday to celebrate 6 months sin...       en   \n",
       "1        @top7ico @MXCfoundation @DeFinePlatform @YOPfi...       en   \n",
       "2        @MetaSpatial_io Good project go to the moon 🚀🚀...       en   \n",
       "3         @Metaverse_Yin I just take the hype as alpha lol       en   \n",
       "4                     @Metaverse_Yin Keep it coming ! Lmao       en   \n",
       "...                                                    ...      ...   \n",
       "3667770  🚨 Road to 500 followers 🚨\\n\\nATTN CHECK PINNED...       en   \n",
       "3667771  From the latest in edge, quantum, 5G, IoT, and...       en   \n",
       "3667772  Architectural Designs as NFTs in the Real Worl...       en   \n",
       "3667773  @Mazyukin_ @opensea This NFT project is revolu...       en   \n",
       "3667774  @BeastyBrudda @cryptobeaker Agree, They have d...       en   \n",
       "\n",
       "         like_count  rt_count                            reply_to  retweeted  \\\n",
       "0                17         8                                 NaN        NaN   \n",
       "1                 0         0         https://twitter.com/top7ico        NaN   \n",
       "2                 1         0  https://twitter.com/MetaSpatial_io        NaN   \n",
       "3                 3         0   https://twitter.com/Metaverse_Yin        NaN   \n",
       "4                 4         0   https://twitter.com/Metaverse_Yin        NaN   \n",
       "...             ...       ...                                 ...        ...   \n",
       "3667770           0         0                                 NaN        NaN   \n",
       "3667771           0         0                                 NaN        NaN   \n",
       "3667772           0         0                                 NaN        NaN   \n",
       "3667773           0         0       https://twitter.com/Mazyukin_        NaN   \n",
       "3667774           0         0    https://twitter.com/BeastyBrudda        NaN   \n",
       "\n",
       "                     user_id        username  user_followers  user_fav_count  \\\n",
       "0                  358455054   BoxheadTweets            3724           13569   \n",
       "1                 2587108380   deenguyen0102              13             613   \n",
       "2        1400522316686106624   alucard_aluca              12             366   \n",
       "3        1350207215131525121    Paperhands41             868            3463   \n",
       "4        1096134862484983808    BigLouGutter            4701           46924   \n",
       "...                      ...             ...             ...             ...   \n",
       "3667770  1444206517461323783  PirateSheckles             347            3034   \n",
       "3667771            513817591     ExpertsRock            1540           35884   \n",
       "3667772  1468164097355264002        group_kq              15               1   \n",
       "3667773  1513945041324195843   OpenseaMonkey              29              30   \n",
       "3667774   802898471544090624       GutterBTC            5064           51534   \n",
       "\n",
       "         is_verified                 created_at  \n",
       "0              False  2011-08-19 23:28:07+00:00  \n",
       "1              False  2014-06-25 08:29:47+00:00  \n",
       "2              False  2021-06-03 18:38:50+00:00  \n",
       "3              False  2021-01-15 22:24:29+00:00  \n",
       "4              False  2019-02-14 19:51:31+00:00  \n",
       "...              ...                        ...  \n",
       "3667770        False  2021-10-02 07:44:29+00:00  \n",
       "3667771        False  2012-03-04 01:42:47+00:00  \n",
       "3667772        False  2021-12-07 10:22:58+00:00  \n",
       "3667773        False  2022-04-12 18:20:08+00:00  \n",
       "3667774        False  2016-11-27 15:34:47+00:00  \n",
       "\n",
       "[3667775 rows x 14 columns]"
      ]
     },
     "execution_count": 47,
     "metadata": {},
     "output_type": "execute_result"
    }
   ],
   "source": [
    "df"
   ]
  },
  {
   "cell_type": "markdown",
   "metadata": {},
   "source": [
    "### First Phase Agrah-Aydin (67.024)"
   ]
  },
  {
   "cell_type": "code",
   "execution_count": null,
   "metadata": {},
   "outputs": [],
   "source": [
    "df[(df['datetime'] >= '2021-10-21 00:00:00') & (df['datetime'] < '2021-10-28 00:00:00') & (df['language'] == 'en')].count()"
   ]
  },
  {
   "cell_type": "markdown",
   "metadata": {},
   "source": [
    "# Pre-processing Tasks (TODO)\n",
    "\n",
    "1. Join all the months worksheet in only one file - OK\n",
    "2. Preprocessing Step:\n",
    "   1. Remove duplicates by value id keeping the first entry instance - OK\n",
    "   2. Convert datetime column as a just day date format (yyyy-mm-dd) - OK\n",
    "   3. Remove non-English tweets - OK\n",
    "   4. Remove all columns except text\n",
    "   5. Data Manipulation\n",
    "      1. Noise removal in Tweet Texts\n",
    "      2. Normalization\n",
    "      3. Tokenization\n",
    "      4. Stemming\n",
    "      5. Lemmatization\n",
    "      6. Remove Stopwords\n",
    "3. Apply NLP models (Textblob, VADER and Affin) for each terms\n",
    "4. Verify Frequent terms (first 10) particularly in each month"
   ]
  },
  {
   "cell_type": "markdown",
   "metadata": {},
   "source": [
    "* Questão? Qual fator fez o número de comentários subir tanto?--\n",
    "* Buscar termos mais frequentes relacionados ao metaverso\n",
    "* Infogain para verificar se há dependência entre as features"
   ]
  },
  {
   "cell_type": "markdown",
   "metadata": {},
   "source": [
    "1. Oct - Metaverso - NFT | Aug ented r | ...\n",
    "2. Nov - NFT | vendas | ...\n",
    "3. Dez -\n",
    "4.  \n",
    "And/Or\n",
    "1. Week 1 - a,b, c,d\n",
    "2. Week 2 - ..."
   ]
  },
  {
   "cell_type": "markdown",
   "metadata": {},
   "source": [
    "# Remoção de tweets de outros idiomas"
   ]
  },
  {
   "cell_type": "code",
   "execution_count": 2,
   "metadata": {},
   "outputs": [],
   "source": [
    "import pandas as pd"
   ]
  },
  {
   "cell_type": "code",
   "execution_count": null,
   "metadata": {},
   "outputs": [],
   "source": [
    "pd.set_option('display.max_columns', None)  # or 1000\n",
    "pd.set_option('display.max_rows', None)  # or 1000\n",
    "pd.set_option('display.max_colwidth', -1)  # or 199"
   ]
  },
  {
   "cell_type": "code",
   "execution_count": 13,
   "metadata": {},
   "outputs": [],
   "source": [
    "import dataframe_image as dfi"
   ]
  },
  {
   "cell_type": "code",
   "execution_count": 3,
   "metadata": {},
   "outputs": [],
   "source": [
    "df = pd.read_csv(\"tweets_preprocessed_english.csv\")"
   ]
  },
  {
   "cell_type": "code",
   "execution_count": 9,
   "metadata": {},
   "outputs": [],
   "source": [
    "data = df[['datetime', 'tweet_id', 'text','language','username']]"
   ]
  },
  {
   "cell_type": "code",
   "execution_count": 11,
   "metadata": {},
   "outputs": [],
   "source": [
    "table = data.head(10)"
   ]
  },
  {
   "cell_type": "code",
   "execution_count": 16,
   "metadata": {},
   "outputs": [],
   "source": [
    "dfi.export(\n",
    "    table,\n",
    "    \"table.svg\",\n",
    "    table_conversion=\"matplotlib\"\n",
    ")"
   ]
  },
  {
   "cell_type": "code",
   "execution_count": 35,
   "metadata": {},
   "outputs": [
    {
     "data": {
      "text/plain": [
       "(3667775, 3667775, 0)"
      ]
     },
     "execution_count": 35,
     "metadata": {},
     "output_type": "execute_result"
    }
   ],
   "source": [
    "df.count()[0], \\\n",
    "    df[df['language'] == 'en'].count()[0], \\\n",
    "    df[df['language'] != 'en'].count()[0]"
   ]
  },
  {
   "cell_type": "code",
   "execution_count": null,
   "metadata": {},
   "outputs": [],
   "source": [
    "df.rename_axis({'tweet_id':'quantidade'})"
   ]
  },
  {
   "cell_type": "code",
   "execution_count": 34,
   "metadata": {},
   "outputs": [
    {
     "data": {
      "text/html": [
       "<div>\n",
       "<style scoped>\n",
       "    .dataframe tbody tr th:only-of-type {\n",
       "        vertical-align: middle;\n",
       "    }\n",
       "\n",
       "    .dataframe tbody tr th {\n",
       "        vertical-align: top;\n",
       "    }\n",
       "\n",
       "    .dataframe thead th {\n",
       "        text-align: right;\n",
       "    }\n",
       "</style>\n",
       "<table border=\"1\" class=\"dataframe\">\n",
       "  <thead>\n",
       "    <tr style=\"text-align: right;\">\n",
       "      <th></th>\n",
       "      <th>tweet_id</th>\n",
       "    </tr>\n",
       "    <tr>\n",
       "      <th>language</th>\n",
       "      <th></th>\n",
       "    </tr>\n",
       "  </thead>\n",
       "  <tbody>\n",
       "    <tr>\n",
       "      <th>en</th>\n",
       "      <td>3667775</td>\n",
       "    </tr>\n",
       "    <tr>\n",
       "      <th>pt</th>\n",
       "      <td>11114</td>\n",
       "    </tr>\n",
       "    <tr>\n",
       "      <th>fr</th>\n",
       "      <td>1298</td>\n",
       "    </tr>\n",
       "    <tr>\n",
       "      <th>es</th>\n",
       "      <td>1177</td>\n",
       "    </tr>\n",
       "    <tr>\n",
       "      <th>it</th>\n",
       "      <td>752</td>\n",
       "    </tr>\n",
       "    <tr>\n",
       "      <th>tl</th>\n",
       "      <td>578</td>\n",
       "    </tr>\n",
       "    <tr>\n",
       "      <th>in</th>\n",
       "      <td>532</td>\n",
       "    </tr>\n",
       "    <tr>\n",
       "      <th>et</th>\n",
       "      <td>514</td>\n",
       "    </tr>\n",
       "    <tr>\n",
       "      <th>de</th>\n",
       "      <td>493</td>\n",
       "    </tr>\n",
       "    <tr>\n",
       "      <th>ht</th>\n",
       "      <td>306</td>\n",
       "    </tr>\n",
       "    <tr>\n",
       "      <th>nl</th>\n",
       "      <td>286</td>\n",
       "    </tr>\n",
       "    <tr>\n",
       "      <th>da</th>\n",
       "      <td>202</td>\n",
       "    </tr>\n",
       "    <tr>\n",
       "      <th>no</th>\n",
       "      <td>154</td>\n",
       "    </tr>\n",
       "    <tr>\n",
       "      <th>tr</th>\n",
       "      <td>119</td>\n",
       "    </tr>\n",
       "    <tr>\n",
       "      <th>eu</th>\n",
       "      <td>102</td>\n",
       "    </tr>\n",
       "    <tr>\n",
       "      <th>lt</th>\n",
       "      <td>90</td>\n",
       "    </tr>\n",
       "    <tr>\n",
       "      <th>ca</th>\n",
       "      <td>84</td>\n",
       "    </tr>\n",
       "    <tr>\n",
       "      <th>vi</th>\n",
       "      <td>74</td>\n",
       "    </tr>\n",
       "    <tr>\n",
       "      <th>hu</th>\n",
       "      <td>36</td>\n",
       "    </tr>\n",
       "    <tr>\n",
       "      <th>sv</th>\n",
       "      <td>35</td>\n",
       "    </tr>\n",
       "    <tr>\n",
       "      <th>cy</th>\n",
       "      <td>34</td>\n",
       "    </tr>\n",
       "    <tr>\n",
       "      <th>pl</th>\n",
       "      <td>25</td>\n",
       "    </tr>\n",
       "    <tr>\n",
       "      <th>und</th>\n",
       "      <td>23</td>\n",
       "    </tr>\n",
       "    <tr>\n",
       "      <th>lv</th>\n",
       "      <td>22</td>\n",
       "    </tr>\n",
       "    <tr>\n",
       "      <th>cs</th>\n",
       "      <td>12</td>\n",
       "    </tr>\n",
       "    <tr>\n",
       "      <th>is</th>\n",
       "      <td>5</td>\n",
       "    </tr>\n",
       "    <tr>\n",
       "      <th>ro</th>\n",
       "      <td>3</td>\n",
       "    </tr>\n",
       "    <tr>\n",
       "      <th>hi</th>\n",
       "      <td>2</td>\n",
       "    </tr>\n",
       "    <tr>\n",
       "      <th>ja</th>\n",
       "      <td>1</td>\n",
       "    </tr>\n",
       "    <tr>\n",
       "      <th>sl</th>\n",
       "      <td>1</td>\n",
       "    </tr>\n",
       "    <tr>\n",
       "      <th>fi</th>\n",
       "      <td>1</td>\n",
       "    </tr>\n",
       "  </tbody>\n",
       "</table>\n",
       "</div>"
      ],
      "text/plain": [
       "          tweet_id\n",
       "language          \n",
       "en         3667775\n",
       "pt           11114\n",
       "fr            1298\n",
       "es            1177\n",
       "it             752\n",
       "tl             578\n",
       "in             532\n",
       "et             514\n",
       "de             493\n",
       "ht             306\n",
       "nl             286\n",
       "da             202\n",
       "no             154\n",
       "tr             119\n",
       "eu             102\n",
       "lt              90\n",
       "ca              84\n",
       "vi              74\n",
       "hu              36\n",
       "sv              35\n",
       "cy              34\n",
       "pl              25\n",
       "und             23\n",
       "lv              22\n",
       "cs              12\n",
       "is               5\n",
       "ro               3\n",
       "hi               2\n",
       "ja               1\n",
       "sl               1\n",
       "fi               1"
      ]
     },
     "execution_count": 34,
     "metadata": {},
     "output_type": "execute_result"
    }
   ],
   "source": [
    "df[['tweet_id']].groupby(df['language']).count().\\\n",
    "    sort_values(by='tweet_id', ascending=False)"
   ]
  },
  {
   "cell_type": "code",
   "execution_count": 37,
   "metadata": {},
   "outputs": [
    {
     "data": {
      "text/plain": [
       "Index(['datetime', 'tweet_id', 'text', 'language', 'like_count', 'rt_count',\n",
       "       'reply_to', 'retweeted', 'user_id', 'username', 'user_followers',\n",
       "       'user_fav_count', 'is_verified', 'created_at'],\n",
       "      dtype='object')"
      ]
     },
     "execution_count": 37,
     "metadata": {},
     "output_type": "execute_result"
    }
   ],
   "source": [
    "df.columns"
   ]
  },
  {
   "cell_type": "code",
   "execution_count": null,
   "metadata": {},
   "outputs": [],
   "source": [
    "df.reply_to.head()"
   ]
  },
  {
   "cell_type": "code",
   "execution_count": null,
   "metadata": {},
   "outputs": [],
   "source": [
    "# get only tweets with lang english\n",
    "df = df[df['language'] == 'en']"
   ]
  },
  {
   "cell_type": "code",
   "execution_count": null,
   "metadata": {},
   "outputs": [],
   "source": [
    "# save preprocessed data\n",
    "\n",
    "#df.to_csv(r\"C:\\Users\\wferreira.MPAC\\OneDrive\\TCC II - Metaverso - Este Sim Agora Vai\\workspace\\twitter-EDA\\tweets_preprocessing\\tweets_preprocessed_english.csv\")"
   ]
  },
  {
   "cell_type": "code",
   "execution_count": 9,
   "metadata": {},
   "outputs": [
    {
     "data": {
      "text/plain": [
       "datetime          3685850\n",
       "tweet_id          3685850\n",
       "text              3685850\n",
       "language          3685850\n",
       "like_count        3685850\n",
       "rt_count          3685850\n",
       "reply_to          1216485\n",
       "retweeted               0\n",
       "user_id           3685850\n",
       "username          3685850\n",
       "user_followers    3685850\n",
       "user_fav_count    3685850\n",
       "is_verified       3685850\n",
       "created_at        3685850\n",
       "dtype: int64"
      ]
     },
     "execution_count": 9,
     "metadata": {},
     "output_type": "execute_result"
    }
   ],
   "source": [
    "df.count()"
   ]
  },
  {
   "cell_type": "markdown",
   "metadata": {},
   "source": [
    "### Abaixo são descritos os passos para a extração de dados do twitter"
   ]
  },
  {
   "cell_type": "code",
   "execution_count": null,
   "metadata": {},
   "outputs": [],
   "source": [
    "# importa as bibliotecas\n",
    "import snscrape.modules.twitter as sntwitter\n",
    "import csv\n",
    "\n",
    "# cria um arquivo onde será salvo os dados\n",
    "csvFile = open('metaverse_oct.csv', 'a')\n",
    "csvWriter = csv.writer(csvFile)\n",
    "\n",
    "# palavras chaves\n",
    "key_words = \"(metaverse OR #metaverse OR #metaverso OR #metaverso)\"\n",
    "\n",
    "# idioma do comentário\n",
    "lang = 'en'\n",
    "\n",
    "# intervalo mês de outubro\n",
    "intervalo = 'since:2021-10-01 until:2021-11-01'\n",
    "\n",
    "# prepara a busca de tweets\n",
    "query = '{} lang:{} {}'.format(key_words, lang, intervalo)\n",
    "\n",
    "# itera sobre os tweets retornados\n",
    "for tweet in sntwitter.TwitterSearchScraper(query).get_items() :\n",
    "    # adiciona o registro no arquivo\n",
    "    csvWriter.writerow([\n",
    "        tweet.date, \n",
    "        tweet.id, \n",
    "        tweet.content, \n",
    "        tweet.lang,\n",
    "        tweet.likeCount,\n",
    "        tweet.retweetCount,\n",
    "        tweet.inReplyToUser,\n",
    "        tweet.retweetedTweet,\n",
    "        tweet.user.id,\n",
    "        tweet.username,\n",
    "        tweet.user.followersCount, \n",
    "        tweet.user.favouritesCount, \n",
    "        tweet.user.verified,\n",
    "        tweet.user.created,\n",
    "    ])"
   ]
  }
 ],
 "metadata": {
  "interpreter": {
   "hash": "d54245c670ff253d1204420841bd04192ea0c38e456268d4f3a24d97e25d8999"
  },
  "kernelspec": {
   "display_name": "Python 3.10.4 64-bit",
   "language": "python",
   "name": "python3"
  },
  "language_info": {
   "codemirror_mode": {
    "name": "ipython",
    "version": 3
   },
   "file_extension": ".py",
   "mimetype": "text/x-python",
   "name": "python",
   "nbconvert_exporter": "python",
   "pygments_lexer": "ipython3",
   "version": "3.10.4"
  },
  "orig_nbformat": 4
 },
 "nbformat": 4,
 "nbformat_minor": 2
}
