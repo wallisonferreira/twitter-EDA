{
 "cells": [
  {
   "cell_type": "markdown",
   "metadata": {},
   "source": [
    "# EDA - October"
   ]
  },
  {
   "cell_type": "markdown",
   "metadata": {},
   "source": [
    "### Work Related:\n",
    "\n",
    "\"In the last case (after deduplication), there are 67,024 rows and 1 column in the first \n",
    "dataset (2021-10-21 and 2021-10-28). The second dataset (2021-10-28 and 2021-11-04) has 262,561 rows and 1 column.\"\n",
    "\n",
    "First one covers one week before 28/10, while the other one cover 28/10 inclusive one week ahead.\n",
    "\n",
    "Total: 329.585\n",
    "\n",
    "Agrah, O. Aydin, O. Tweet Classification and Sentiment Analysis on \n",
    "Metaverse Related Messages (2021). Journal of Metaverse, 2021. v. 1, p. 25-30."
   ]
  },
  {
   "cell_type": "code",
   "execution_count": null,
   "metadata": {},
   "outputs": [],
   "source": [
    "import pandas as pd\n",
    "import glob"
   ]
  },
  {
   "cell_type": "code",
   "execution_count": null,
   "metadata": {},
   "outputs": [],
   "source": [
    "cols=[\n",
    "    'datetime',\n",
    "    'tweet_id',\n",
    "    'text',\n",
    "    'language',\n",
    "    'like_count',\n",
    "    'rt_count',\n",
    "    'reply_to',\n",
    "    'retweeted',\n",
    "    'user_id',\n",
    "    'username',\n",
    "    'user_followers',\n",
    "    'user_fav_count',\n",
    "    'is_verified',\n",
    "    'created_at'\n",
    "]"
   ]
  },
  {
   "cell_type": "code",
   "execution_count": null,
   "metadata": {},
   "outputs": [],
   "source": [
    "# df = pd.DataFrame(columns=cols)\n",
    "# frame = pd.DataFrame(columns=cols)"
   ]
  },
  {
   "cell_type": "code",
   "execution_count": null,
   "metadata": {},
   "outputs": [],
   "source": [
    "path = r\"\\twitter-EDA\\tweets_data_for_EDA\"\n",
    "all_files = glob.glob(os.path.join(path , \"*.csv\"))\n",
    "\n",
    "li = []\n",
    "\n",
    "for filename in all_files:\n",
    "    df = pd.read_csv(filename, names=cols, on_bad_lines='skip')\n",
    "    li.append(df)\n",
    "\n",
    "frame = pd.concat(li)"
   ]
  },
  {
   "cell_type": "code",
   "execution_count": null,
   "metadata": {},
   "outputs": [],
   "source": [
    "df = frame"
   ]
  },
  {
   "cell_type": "code",
   "execution_count": null,
   "metadata": {},
   "outputs": [],
   "source": [
    "df.info()"
   ]
  },
  {
   "cell_type": "markdown",
   "metadata": {},
   "source": [
    "##### Preprocessing"
   ]
  },
  {
   "cell_type": "code",
   "execution_count": null,
   "metadata": {},
   "outputs": [],
   "source": [
    "# Check number of duplicates by id and text\n",
    "id_duplicates = df.drop(labels=[\"tweet_id\"], axis=1).duplicated().sum()\n",
    "text_duplicates = df.drop(labels=[\"text\"], axis=1).duplicated().sum()\n",
    "\n",
    "print(f\"You seem to have {id_duplicates} duplicates tweet_id in your database.\\n \\\n",
    "You seem to have {text_duplicates} duplicates text in your database.\")"
   ]
  },
  {
   "cell_type": "code",
   "execution_count": null,
   "metadata": {},
   "outputs": [],
   "source": [
    "# Drop all duplicated rows\n",
    "df.drop_duplicates(\"tweet_id\", inplace=True)\n",
    "df.drop_duplicates(\"text\", inplace=True)\n",
    "df.shape"
   ]
  },
  {
   "cell_type": "code",
   "execution_count": null,
   "metadata": {},
   "outputs": [],
   "source": [
    "# ordering data\n",
    "df['datetime'] = pd.to_datetime(df['datetime'])\n",
    "df = df.sort_values(by=\"datetime\")\n",
    "df.head()"
   ]
  },
  {
   "cell_type": "code",
   "execution_count": null,
   "metadata": {},
   "outputs": [],
   "source": [
    "df[['datetime','text']].head()"
   ]
  },
  {
   "cell_type": "code",
   "execution_count": null,
   "metadata": {},
   "outputs": [],
   "source": [
    "# transform text in unicode escape to unicode\n",
    "df['text'] = df.apply(lambda row: eval(row['text']).decode('utf-8'), axis=1)\n",
    "df[['datetime','text']].head()"
   ]
  },
  {
   "cell_type": "code",
   "execution_count": null,
   "metadata": {},
   "outputs": [],
   "source": [
    "df = df[['datetime', 'tweet_id', 'text',\n",
    "       'language', 'like_count', 'rt_count', 'reply_to', 'retweeted',\n",
    "       'user_id', 'username', 'user_followers', 'user_fav_count',\n",
    "       'is_verified', 'created_at']]"
   ]
  },
  {
   "cell_type": "code",
   "execution_count": null,
   "metadata": {},
   "outputs": [],
   "source": [
    "df.head()"
   ]
  },
  {
   "cell_type": "code",
   "execution_count": null,
   "metadata": {},
   "outputs": [],
   "source": [
    "df.columns"
   ]
  },
  {
   "cell_type": "code",
   "execution_count": null,
   "metadata": {},
   "outputs": [],
   "source": [
    "pd.value_counts(df.dtypes)"
   ]
  },
  {
   "cell_type": "markdown",
   "metadata": {},
   "source": [
    "### Structure of non-numerical features"
   ]
  },
  {
   "cell_type": "code",
   "execution_count": null,
   "metadata": {},
   "outputs": [],
   "source": [
    "df.describe(exclude=\"number\", datetime_is_numeric=True)"
   ]
  },
  {
   "cell_type": "code",
   "execution_count": null,
   "metadata": {},
   "outputs": [],
   "source": [
    "# How much of these data is in english lang\n",
    "df[df['language'] == 'en'].count()"
   ]
  },
  {
   "cell_type": "markdown",
   "metadata": {},
   "source": [
    "### Structure of numerical features"
   ]
  },
  {
   "cell_type": "code",
   "execution_count": null,
   "metadata": {},
   "outputs": [],
   "source": [
    "unique_values = df.select_dtypes(include=\"number\").nunique().sort_values()\n",
    "\n",
    "unique_values.plot.bar(logy=True, figsize=(15, 4), title=\"Unique values per feature\");"
   ]
  },
  {
   "cell_type": "markdown",
   "metadata": {},
   "source": [
    "### Missing values"
   ]
  },
  {
   "cell_type": "code",
   "execution_count": null,
   "metadata": {},
   "outputs": [],
   "source": [
    "import matplotlib.pyplot as plt\n",
    "plt.figure(figsize=(15, 10))\n",
    "plt.imshow(df.isna(), aspect=\"auto\", interpolation=\"nearest\", cmap=\"gray\")\n",
    "plt.xlabel(\"Column Number\")\n",
    "plt.ylabel(\"Sample Number\")\n",
    "plt.plot(color='#1d405d')\n",
    "plt.savefig(\"figure.eps\")\n",
    "plt.show()\n",
    "\n",
    "# kind='barh', \n",
    "# figsize=(5,5), \n",
    "# xlabel='Language', \n",
    "# ylabel='Number of tweets',\n",
    "# edgecolor='#333F4B',\n",
    "# linewidth=0.8,\n",
    "# color='#1d405d'"
   ]
  },
  {
   "cell_type": "markdown",
   "metadata": {},
   "source": [
    "Por que foram usados essas ferramentas"
   ]
  },
  {
   "cell_type": "code",
   "execution_count": null,
   "metadata": {},
   "outputs": [],
   "source": [
    "import missingno as msno\n",
    "\n",
    "msno.matrix(df, labels=True, sort=\"descending\");"
   ]
  },
  {
   "cell_type": "markdown",
   "metadata": {},
   "source": [
    "### Missing values per feature"
   ]
  },
  {
   "cell_type": "code",
   "execution_count": null,
   "metadata": {},
   "outputs": [],
   "source": [
    "#identify the ratio of missing values per feature.\n",
    "df.isna().mean().sort_values().plot(\n",
    "    kind=\"bar\", figsize=(10, 5),\n",
    "    title=\"Percentage of missing values per feature\",\n",
    "    ylabel=\"Ratio of missing values per feature\",\n",
    "    edgecolor='#333F4B',\n",
    "    linewidth=0.8,\n",
    "    color='#1d405d');"
   ]
  },
  {
   "cell_type": "code",
   "execution_count": null,
   "metadata": {},
   "outputs": [],
   "source": [
    "df.plot(x='like_count', y='user_followers', kind='scatter', figsize=(25,10));"
   ]
  },
  {
   "cell_type": "code",
   "execution_count": null,
   "metadata": {},
   "outputs": [],
   "source": [
    "df['tweet_id'].groupby(df['datetime'].dt.to_period('D')).count().plot(kind='bar', figsize=(25,10));"
   ]
  },
  {
   "cell_type": "markdown",
   "metadata": {},
   "source": [
    "### Features Analysis"
   ]
  },
  {
   "cell_type": "code",
   "execution_count": null,
   "metadata": {},
   "outputs": [],
   "source": [
    "df['tweet_id'].groupby(df['language']).count().plot(kind='bar', figsize=(15,10));"
   ]
  },
  {
   "cell_type": "code",
   "execution_count": null,
   "metadata": {},
   "outputs": [],
   "source": [
    "df"
   ]
  },
  {
   "cell_type": "markdown",
   "metadata": {},
   "source": [
    "### First Phase Agrah-Aydin (67.024)"
   ]
  },
  {
   "cell_type": "code",
   "execution_count": null,
   "metadata": {},
   "outputs": [],
   "source": [
    "df[(df['datetime'] >= '2021-10-21 00:00:00') & (df['datetime'] < '2021-10-28 00:00:00') & (df['language'] == 'en')].count()"
   ]
  },
  {
   "cell_type": "markdown",
   "metadata": {},
   "source": [
    "# Pre-processing Tasks (TODO)\n",
    "\n",
    "1. Join all the months worksheet in only one file - OK\n",
    "2. Preprocessing Step:\n",
    "   1. Remove duplicates by value id keeping the first entry instance - OK\n",
    "   2. Convert datetime column as a just day date format (yyyy-mm-dd) - OK\n",
    "   3. Remove non-English tweets - OK\n",
    "   4. Remove all columns except text\n",
    "   5. Data Manipulation\n",
    "      1. Noise removal in Tweet Texts\n",
    "      2. Normalization\n",
    "      3. Tokenization\n",
    "      4. Stemming\n",
    "      5. Lemmatization\n",
    "      6. Remove Stopwords\n",
    "3. Apply NLP models (Textblob, VADER and Affin) for each terms\n",
    "4. Verify Frequent terms (first 10) particularly in each month"
   ]
  },
  {
   "cell_type": "markdown",
   "metadata": {},
   "source": [
    "* Questão? Qual fator fez o número de comentários subir tanto?--\n",
    "* Buscar termos mais frequentes relacionados ao metaverso\n",
    "* Infogain para verificar se há dependência entre as features"
   ]
  },
  {
   "cell_type": "markdown",
   "metadata": {},
   "source": [
    "1. Oct - Metaverso - NFT | Aug ented r | ...\n",
    "2. Nov - NFT | vendas | ...\n",
    "3. Dez -\n",
    "4.  \n",
    "And/Or\n",
    "1. Week 1 - a,b, c,d\n",
    "2. Week 2 - ..."
   ]
  },
  {
   "cell_type": "markdown",
   "metadata": {},
   "source": [
    "# Remoção de tweets de outros idiomas"
   ]
  },
  {
   "cell_type": "code",
   "execution_count": null,
   "metadata": {},
   "outputs": [],
   "source": [
    "import pandas as pd"
   ]
  },
  {
   "cell_type": "code",
   "execution_count": null,
   "metadata": {},
   "outputs": [],
   "source": [
    "pd.set_option('display.max_columns', None)  # or 1000\n",
    "pd.set_option('display.max_rows', None)  # or 1000\n",
    "pd.set_option('display.max_colwidth', -1)  # or 199"
   ]
  },
  {
   "cell_type": "code",
   "execution_count": null,
   "metadata": {},
   "outputs": [],
   "source": [
    "import dataframe_image as dfi"
   ]
  },
  {
   "cell_type": "code",
   "execution_count": null,
   "metadata": {},
   "outputs": [],
   "source": [
    "df = pd.read_csv(\"tweets_preprocessed_english.csv\")"
   ]
  },
  {
   "cell_type": "code",
   "execution_count": null,
   "metadata": {},
   "outputs": [],
   "source": [
    "data = df[['datetime', 'tweet_id', 'text','language','username']]"
   ]
  },
  {
   "cell_type": "code",
   "execution_count": null,
   "metadata": {},
   "outputs": [],
   "source": [
    "table = data.head(10)"
   ]
  },
  {
   "cell_type": "code",
   "execution_count": null,
   "metadata": {},
   "outputs": [],
   "source": [
    "dfi.export(\n",
    "    table,\n",
    "    \"table.svg\",\n",
    "    table_conversion=\"matplotlib\"\n",
    ")"
   ]
  },
  {
   "cell_type": "code",
   "execution_count": null,
   "metadata": {},
   "outputs": [],
   "source": [
    "df.count()[0], \\\n",
    "    df[df['language'] == 'en'].count()[0], \\\n",
    "    df[df['language'] != 'en'].count()[0]"
   ]
  },
  {
   "cell_type": "code",
   "execution_count": null,
   "metadata": {},
   "outputs": [],
   "source": [
    "df.rename_axis({'tweet_id':'quantidade'})"
   ]
  },
  {
   "cell_type": "code",
   "execution_count": null,
   "metadata": {},
   "outputs": [],
   "source": [
    "df[['tweet_id']].groupby(df['language']).count().\\\n",
    "    sort_values(by='tweet_id', ascending=False)"
   ]
  },
  {
   "cell_type": "code",
   "execution_count": null,
   "metadata": {},
   "outputs": [],
   "source": [
    "df.columns"
   ]
  },
  {
   "cell_type": "code",
   "execution_count": null,
   "metadata": {},
   "outputs": [],
   "source": [
    "df.reply_to.head()"
   ]
  },
  {
   "cell_type": "code",
   "execution_count": null,
   "metadata": {},
   "outputs": [],
   "source": [
    "# get only tweets with lang english\n",
    "df = df[df['language'] == 'en']"
   ]
  },
  {
   "cell_type": "code",
   "execution_count": null,
   "metadata": {},
   "outputs": [],
   "source": [
    "df.count()"
   ]
  },
  {
   "cell_type": "markdown",
   "metadata": {},
   "source": [
    "### Abaixo são descritos os passos para a extração de dados do twitter"
   ]
  },
  {
   "cell_type": "code",
   "execution_count": null,
   "metadata": {},
   "outputs": [],
   "source": [
    "# importa as bibliotecas\n",
    "import snscrape.modules.twitter as sntwitter\n",
    "import csv\n",
    "\n",
    "# cria um arquivo onde será salvo os dados\n",
    "csvFile = open('metaverse_oct.csv', 'a')\n",
    "csvWriter = csv.writer(csvFile)\n",
    "\n",
    "# palavras chaves\n",
    "key_words = \"(metaverse OR #metaverse OR #metaverso OR #metaverso)\"\n",
    "\n",
    "# idioma do comentário\n",
    "lang = 'en'\n",
    "\n",
    "# intervalo mês de outubro\n",
    "intervalo = 'since:2021-10-01 until:2021-11-01'\n",
    "\n",
    "# prepara a busca de tweets\n",
    "query = '{} lang:{} {}'.format(key_words, lang, intervalo)\n",
    "\n",
    "# itera sobre os tweets retornados\n",
    "for tweet in sntwitter.TwitterSearchScraper(query).get_items() :\n",
    "    # adiciona o registro no arquivo\n",
    "    csvWriter.writerow([\n",
    "        tweet.date, \n",
    "        tweet.id, \n",
    "        tweet.content, \n",
    "        tweet.lang,\n",
    "        tweet.likeCount,\n",
    "        tweet.retweetCount,\n",
    "        tweet.inReplyToUser,\n",
    "        tweet.retweetedTweet,\n",
    "        tweet.user.id,\n",
    "        tweet.username,\n",
    "        tweet.user.followersCount, \n",
    "        tweet.user.favouritesCount, \n",
    "        tweet.user.verified,\n",
    "        tweet.user.created,\n",
    "    ])"
   ]
  }
 ],
 "metadata": {
  "interpreter": {
   "hash": "d54245c670ff253d1204420841bd04192ea0c38e456268d4f3a24d97e25d8999"
  },
  "kernelspec": {
   "display_name": "Python 3.10.4 64-bit",
   "language": "python",
   "name": "python3"
  },
  "language_info": {
   "codemirror_mode": {
    "name": "ipython",
    "version": 3
   },
   "file_extension": ".py",
   "mimetype": "text/x-python",
   "name": "python",
   "nbconvert_exporter": "python",
   "pygments_lexer": "ipython3",
   "version": "3.10.4"
  },
  "orig_nbformat": 4
 },
 "nbformat": 4,
 "nbformat_minor": 2
}
