{
 "cells": [
  {
   "cell_type": "markdown",
   "metadata": {},
   "source": [
    "# Fevereiro - Metaverse"
   ]
  },
  {
   "cell_type": "code",
   "execution_count": null,
   "metadata": {},
   "outputs": [],
   "source": [
    "import csv\n",
    "import pandas as pd\n",
    "import snscrape.modules.twitter as sntwitter"
   ]
  },
  {
   "cell_type": "code",
   "execution_count": null,
   "metadata": {},
   "outputs": [],
   "source": [
    "csvFile = open('metaverse_fev.csv', 'a') #creates a file in which you want to store the data.\n",
    "csvWriter = csv.writer(csvFile)"
   ]
  },
  {
   "cell_type": "code",
   "execution_count": null,
   "metadata": {},
   "outputs": [],
   "source": [
    "#maxTweets = 1000000  # the number of tweets you require\n",
    "for i,tweet in enumerate(sntwitter.TwitterSearchScraper('metaverse (lang:en OR lang:pt) since:2022-02-01 until:2022-02-03').get_items()) :\n",
    "        #if i > maxTweets :\n",
    "        #    break\n",
    "        \n",
    "        model = [\n",
    "            tweet.date, \n",
    "            tweet.id, \n",
    "            tweet.content.encode('utf-8'), \n",
    "            tweet.lang,\n",
    "            tweet.likeCount,\n",
    "            tweet.retweetCount,\n",
    "            tweet.inReplyToUser,\n",
    "            tweet.retweetedTweet,\n",
    "            tweet.user.id,\n",
    "            tweet.username,\n",
    "            tweet.user.followersCount, \n",
    "            tweet.user.favouritesCount, \n",
    "            tweet.user.verified,\n",
    "            tweet.user.created,\n",
    "        ]\n",
    "        print(tweet.date, '-', i , ' collected')\n",
    "        csvWriter.writerow(model) #If you need more information, just provide the attributes"
   ]
  },
  {
   "cell_type": "markdown",
   "metadata": {},
   "source": [
    "## Consolidado"
   ]
  },
  {
   "cell_type": "code",
   "execution_count": null,
   "metadata": {},
   "outputs": [],
   "source": []
  }
 ],
 "metadata": {
  "interpreter": {
   "hash": "159670747139c9588a906674c57cb5d915974e68ed16a367cc0049d9280ff45d"
  },
  "kernelspec": {
   "display_name": "Python 3.10.2 64-bit",
   "language": "python",
   "name": "python3"
  },
  "language_info": {
   "codemirror_mode": {
    "name": "ipython",
    "version": 3
   },
   "file_extension": ".py",
   "mimetype": "text/x-python",
   "name": "python",
   "nbconvert_exporter": "python",
   "pygments_lexer": "ipython3",
   "version": "3.10.4"
  },
  "orig_nbformat": 4
 },
 "nbformat": 4,
 "nbformat_minor": 2
}
